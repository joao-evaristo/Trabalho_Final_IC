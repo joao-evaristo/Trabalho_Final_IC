{
  "nbformat": 4,
  "nbformat_minor": 0,
  "metadata": {
    "colab": {
      "provenance": []
    },
    "kernelspec": {
      "name": "python3",
      "display_name": "Python 3"
    },
    "language_info": {
      "name": "python"
    },
    "gpuClass": "standard"
  },
  "cells": [
    {
      "cell_type": "code",
      "source": [],
      "metadata": {
        "id": "xklxSSqaIyLl"
      },
      "execution_count": null,
      "outputs": []
    },
    {
      "cell_type": "code",
      "source": [],
      "metadata": {
        "id": "EE2Vw5V--Uwb"
      },
      "execution_count": null,
      "outputs": []
    },
    {
      "cell_type": "markdown",
      "source": [
        "#Tratamento de Dados - Trabalho Final - Inteligência Computacional\n",
        "\n",
        "Gabriel Schrader Vilas Boas, RA: 150981\n",
        "\n",
        "João Pedro Assumpção Evaristo. RA: 148887"
      ],
      "metadata": {
        "id": "xpBWwcYICiUf"
      }
    },
    {
      "cell_type": "markdown",
      "source": [
        "##Importando o dataset "
      ],
      "metadata": {
        "id": "WTuywMqFC4Pu"
      }
    },
    {
      "cell_type": "markdown",
      "source": [
        "O dataset utilizado para o trabalho se encontra no site [Kaggle](https://www.kaggle.com/datasets/fedesoriano/stroke-prediction-dataset).\n",
        "Primeiramente, é necessario carregar o dataset e armazené-lo em uma variável que será utilizada para fazer as operações."
      ],
      "metadata": {
        "id": "EVEHuTLfh9k-"
      }
    },
    {
      "cell_type": "code",
      "execution_count": null,
      "metadata": {
        "colab": {
          "base_uri": "https://localhost:8080/",
          "height": 206
        },
        "id": "1iyeo6GwgM-8",
        "outputId": "665f3c52-0460-421f-de51-053932862de8"
      },
      "outputs": [
        {
          "output_type": "execute_result",
          "data": {
            "text/plain": [
              "      id  gender   age  hypertension  heart_disease ever_married  \\\n",
              "0   9046    Male  67.0             0              1          Yes   \n",
              "1  51676  Female  61.0             0              0          Yes   \n",
              "2  31112    Male  80.0             0              1          Yes   \n",
              "3  60182  Female  49.0             0              0          Yes   \n",
              "4   1665  Female  79.0             1              0          Yes   \n",
              "\n",
              "       work_type Residence_type  avg_glucose_level   bmi   smoking_status  \\\n",
              "0        Private          Urban             228.69  36.6  formerly smoked   \n",
              "1  Self-employed          Rural             202.21   NaN     never smoked   \n",
              "2        Private          Rural             105.92  32.5     never smoked   \n",
              "3        Private          Urban             171.23  34.4           smokes   \n",
              "4  Self-employed          Rural             174.12  24.0     never smoked   \n",
              "\n",
              "   stroke  \n",
              "0       1  \n",
              "1       1  \n",
              "2       1  \n",
              "3       1  \n",
              "4       1  "
            ],
            "text/html": [
              "\n",
              "  <div id=\"df-090e34f2-c5bf-462a-9392-17b8fca4669d\">\n",
              "    <div class=\"colab-df-container\">\n",
              "      <div>\n",
              "<style scoped>\n",
              "    .dataframe tbody tr th:only-of-type {\n",
              "        vertical-align: middle;\n",
              "    }\n",
              "\n",
              "    .dataframe tbody tr th {\n",
              "        vertical-align: top;\n",
              "    }\n",
              "\n",
              "    .dataframe thead th {\n",
              "        text-align: right;\n",
              "    }\n",
              "</style>\n",
              "<table border=\"1\" class=\"dataframe\">\n",
              "  <thead>\n",
              "    <tr style=\"text-align: right;\">\n",
              "      <th></th>\n",
              "      <th>id</th>\n",
              "      <th>gender</th>\n",
              "      <th>age</th>\n",
              "      <th>hypertension</th>\n",
              "      <th>heart_disease</th>\n",
              "      <th>ever_married</th>\n",
              "      <th>work_type</th>\n",
              "      <th>Residence_type</th>\n",
              "      <th>avg_glucose_level</th>\n",
              "      <th>bmi</th>\n",
              "      <th>smoking_status</th>\n",
              "      <th>stroke</th>\n",
              "    </tr>\n",
              "  </thead>\n",
              "  <tbody>\n",
              "    <tr>\n",
              "      <th>0</th>\n",
              "      <td>9046</td>\n",
              "      <td>Male</td>\n",
              "      <td>67.0</td>\n",
              "      <td>0</td>\n",
              "      <td>1</td>\n",
              "      <td>Yes</td>\n",
              "      <td>Private</td>\n",
              "      <td>Urban</td>\n",
              "      <td>228.69</td>\n",
              "      <td>36.6</td>\n",
              "      <td>formerly smoked</td>\n",
              "      <td>1</td>\n",
              "    </tr>\n",
              "    <tr>\n",
              "      <th>1</th>\n",
              "      <td>51676</td>\n",
              "      <td>Female</td>\n",
              "      <td>61.0</td>\n",
              "      <td>0</td>\n",
              "      <td>0</td>\n",
              "      <td>Yes</td>\n",
              "      <td>Self-employed</td>\n",
              "      <td>Rural</td>\n",
              "      <td>202.21</td>\n",
              "      <td>NaN</td>\n",
              "      <td>never smoked</td>\n",
              "      <td>1</td>\n",
              "    </tr>\n",
              "    <tr>\n",
              "      <th>2</th>\n",
              "      <td>31112</td>\n",
              "      <td>Male</td>\n",
              "      <td>80.0</td>\n",
              "      <td>0</td>\n",
              "      <td>1</td>\n",
              "      <td>Yes</td>\n",
              "      <td>Private</td>\n",
              "      <td>Rural</td>\n",
              "      <td>105.92</td>\n",
              "      <td>32.5</td>\n",
              "      <td>never smoked</td>\n",
              "      <td>1</td>\n",
              "    </tr>\n",
              "    <tr>\n",
              "      <th>3</th>\n",
              "      <td>60182</td>\n",
              "      <td>Female</td>\n",
              "      <td>49.0</td>\n",
              "      <td>0</td>\n",
              "      <td>0</td>\n",
              "      <td>Yes</td>\n",
              "      <td>Private</td>\n",
              "      <td>Urban</td>\n",
              "      <td>171.23</td>\n",
              "      <td>34.4</td>\n",
              "      <td>smokes</td>\n",
              "      <td>1</td>\n",
              "    </tr>\n",
              "    <tr>\n",
              "      <th>4</th>\n",
              "      <td>1665</td>\n",
              "      <td>Female</td>\n",
              "      <td>79.0</td>\n",
              "      <td>1</td>\n",
              "      <td>0</td>\n",
              "      <td>Yes</td>\n",
              "      <td>Self-employed</td>\n",
              "      <td>Rural</td>\n",
              "      <td>174.12</td>\n",
              "      <td>24.0</td>\n",
              "      <td>never smoked</td>\n",
              "      <td>1</td>\n",
              "    </tr>\n",
              "  </tbody>\n",
              "</table>\n",
              "</div>\n",
              "      <button class=\"colab-df-convert\" onclick=\"convertToInteractive('df-090e34f2-c5bf-462a-9392-17b8fca4669d')\"\n",
              "              title=\"Convert this dataframe to an interactive table.\"\n",
              "              style=\"display:none;\">\n",
              "        \n",
              "  <svg xmlns=\"http://www.w3.org/2000/svg\" height=\"24px\"viewBox=\"0 0 24 24\"\n",
              "       width=\"24px\">\n",
              "    <path d=\"M0 0h24v24H0V0z\" fill=\"none\"/>\n",
              "    <path d=\"M18.56 5.44l.94 2.06.94-2.06 2.06-.94-2.06-.94-.94-2.06-.94 2.06-2.06.94zm-11 1L8.5 8.5l.94-2.06 2.06-.94-2.06-.94L8.5 2.5l-.94 2.06-2.06.94zm10 10l.94 2.06.94-2.06 2.06-.94-2.06-.94-.94-2.06-.94 2.06-2.06.94z\"/><path d=\"M17.41 7.96l-1.37-1.37c-.4-.4-.92-.59-1.43-.59-.52 0-1.04.2-1.43.59L10.3 9.45l-7.72 7.72c-.78.78-.78 2.05 0 2.83L4 21.41c.39.39.9.59 1.41.59.51 0 1.02-.2 1.41-.59l7.78-7.78 2.81-2.81c.8-.78.8-2.07 0-2.86zM5.41 20L4 18.59l7.72-7.72 1.47 1.35L5.41 20z\"/>\n",
              "  </svg>\n",
              "      </button>\n",
              "      \n",
              "  <style>\n",
              "    .colab-df-container {\n",
              "      display:flex;\n",
              "      flex-wrap:wrap;\n",
              "      gap: 12px;\n",
              "    }\n",
              "\n",
              "    .colab-df-convert {\n",
              "      background-color: #E8F0FE;\n",
              "      border: none;\n",
              "      border-radius: 50%;\n",
              "      cursor: pointer;\n",
              "      display: none;\n",
              "      fill: #1967D2;\n",
              "      height: 32px;\n",
              "      padding: 0 0 0 0;\n",
              "      width: 32px;\n",
              "    }\n",
              "\n",
              "    .colab-df-convert:hover {\n",
              "      background-color: #E2EBFA;\n",
              "      box-shadow: 0px 1px 2px rgba(60, 64, 67, 0.3), 0px 1px 3px 1px rgba(60, 64, 67, 0.15);\n",
              "      fill: #174EA6;\n",
              "    }\n",
              "\n",
              "    [theme=dark] .colab-df-convert {\n",
              "      background-color: #3B4455;\n",
              "      fill: #D2E3FC;\n",
              "    }\n",
              "\n",
              "    [theme=dark] .colab-df-convert:hover {\n",
              "      background-color: #434B5C;\n",
              "      box-shadow: 0px 1px 3px 1px rgba(0, 0, 0, 0.15);\n",
              "      filter: drop-shadow(0px 1px 2px rgba(0, 0, 0, 0.3));\n",
              "      fill: #FFFFFF;\n",
              "    }\n",
              "  </style>\n",
              "\n",
              "      <script>\n",
              "        const buttonEl =\n",
              "          document.querySelector('#df-090e34f2-c5bf-462a-9392-17b8fca4669d button.colab-df-convert');\n",
              "        buttonEl.style.display =\n",
              "          google.colab.kernel.accessAllowed ? 'block' : 'none';\n",
              "\n",
              "        async function convertToInteractive(key) {\n",
              "          const element = document.querySelector('#df-090e34f2-c5bf-462a-9392-17b8fca4669d');\n",
              "          const dataTable =\n",
              "            await google.colab.kernel.invokeFunction('convertToInteractive',\n",
              "                                                     [key], {});\n",
              "          if (!dataTable) return;\n",
              "\n",
              "          const docLinkHtml = 'Like what you see? Visit the ' +\n",
              "            '<a target=\"_blank\" href=https://colab.research.google.com/notebooks/data_table.ipynb>data table notebook</a>'\n",
              "            + ' to learn more about interactive tables.';\n",
              "          element.innerHTML = '';\n",
              "          dataTable['output_type'] = 'display_data';\n",
              "          await google.colab.output.renderOutput(dataTable, element);\n",
              "          const docLink = document.createElement('div');\n",
              "          docLink.innerHTML = docLinkHtml;\n",
              "          element.appendChild(docLink);\n",
              "        }\n",
              "      </script>\n",
              "    </div>\n",
              "  </div>\n",
              "  "
            ]
          },
          "metadata": {},
          "execution_count": 279
        }
      ],
      "source": [
        "import pandas as pd\n",
        "url = 'https://raw.githubusercontent.com/joao-evaristo/Trabalho_Final_IC/main/healthcare-dataset-stroke-data.csv'\n",
        "data = pd.read_csv(url)\n",
        "data.head()"
      ]
    },
    {
      "cell_type": "markdown",
      "source": [
        "##Remocao de colunas que não serão utilizadas"
      ],
      "metadata": {
        "id": "KywStA7LDBaf"
      }
    },
    {
      "cell_type": "code",
      "source": [
        "# Remocao de colunas que nao serao\n",
        "# utilizadas pelos algoritmos aplicados.\n",
        "\n",
        "data.pop('id')\n",
        "data.head()"
      ],
      "metadata": {
        "colab": {
          "base_uri": "https://localhost:8080/",
          "height": 206
        },
        "id": "cQ2R71Lxlfix",
        "outputId": "da59a8b5-c085-4008-92a0-c65fe3e26cc3"
      },
      "execution_count": null,
      "outputs": [
        {
          "output_type": "execute_result",
          "data": {
            "text/plain": [
              "   gender   age  hypertension  heart_disease ever_married      work_type  \\\n",
              "0    Male  67.0             0              1          Yes        Private   \n",
              "1  Female  61.0             0              0          Yes  Self-employed   \n",
              "2    Male  80.0             0              1          Yes        Private   \n",
              "3  Female  49.0             0              0          Yes        Private   \n",
              "4  Female  79.0             1              0          Yes  Self-employed   \n",
              "\n",
              "  Residence_type  avg_glucose_level   bmi   smoking_status  stroke  \n",
              "0          Urban             228.69  36.6  formerly smoked       1  \n",
              "1          Rural             202.21   NaN     never smoked       1  \n",
              "2          Rural             105.92  32.5     never smoked       1  \n",
              "3          Urban             171.23  34.4           smokes       1  \n",
              "4          Rural             174.12  24.0     never smoked       1  "
            ],
            "text/html": [
              "\n",
              "  <div id=\"df-57a2ca8f-df16-4d1a-a6f4-e5e22478d879\">\n",
              "    <div class=\"colab-df-container\">\n",
              "      <div>\n",
              "<style scoped>\n",
              "    .dataframe tbody tr th:only-of-type {\n",
              "        vertical-align: middle;\n",
              "    }\n",
              "\n",
              "    .dataframe tbody tr th {\n",
              "        vertical-align: top;\n",
              "    }\n",
              "\n",
              "    .dataframe thead th {\n",
              "        text-align: right;\n",
              "    }\n",
              "</style>\n",
              "<table border=\"1\" class=\"dataframe\">\n",
              "  <thead>\n",
              "    <tr style=\"text-align: right;\">\n",
              "      <th></th>\n",
              "      <th>gender</th>\n",
              "      <th>age</th>\n",
              "      <th>hypertension</th>\n",
              "      <th>heart_disease</th>\n",
              "      <th>ever_married</th>\n",
              "      <th>work_type</th>\n",
              "      <th>Residence_type</th>\n",
              "      <th>avg_glucose_level</th>\n",
              "      <th>bmi</th>\n",
              "      <th>smoking_status</th>\n",
              "      <th>stroke</th>\n",
              "    </tr>\n",
              "  </thead>\n",
              "  <tbody>\n",
              "    <tr>\n",
              "      <th>0</th>\n",
              "      <td>Male</td>\n",
              "      <td>67.0</td>\n",
              "      <td>0</td>\n",
              "      <td>1</td>\n",
              "      <td>Yes</td>\n",
              "      <td>Private</td>\n",
              "      <td>Urban</td>\n",
              "      <td>228.69</td>\n",
              "      <td>36.6</td>\n",
              "      <td>formerly smoked</td>\n",
              "      <td>1</td>\n",
              "    </tr>\n",
              "    <tr>\n",
              "      <th>1</th>\n",
              "      <td>Female</td>\n",
              "      <td>61.0</td>\n",
              "      <td>0</td>\n",
              "      <td>0</td>\n",
              "      <td>Yes</td>\n",
              "      <td>Self-employed</td>\n",
              "      <td>Rural</td>\n",
              "      <td>202.21</td>\n",
              "      <td>NaN</td>\n",
              "      <td>never smoked</td>\n",
              "      <td>1</td>\n",
              "    </tr>\n",
              "    <tr>\n",
              "      <th>2</th>\n",
              "      <td>Male</td>\n",
              "      <td>80.0</td>\n",
              "      <td>0</td>\n",
              "      <td>1</td>\n",
              "      <td>Yes</td>\n",
              "      <td>Private</td>\n",
              "      <td>Rural</td>\n",
              "      <td>105.92</td>\n",
              "      <td>32.5</td>\n",
              "      <td>never smoked</td>\n",
              "      <td>1</td>\n",
              "    </tr>\n",
              "    <tr>\n",
              "      <th>3</th>\n",
              "      <td>Female</td>\n",
              "      <td>49.0</td>\n",
              "      <td>0</td>\n",
              "      <td>0</td>\n",
              "      <td>Yes</td>\n",
              "      <td>Private</td>\n",
              "      <td>Urban</td>\n",
              "      <td>171.23</td>\n",
              "      <td>34.4</td>\n",
              "      <td>smokes</td>\n",
              "      <td>1</td>\n",
              "    </tr>\n",
              "    <tr>\n",
              "      <th>4</th>\n",
              "      <td>Female</td>\n",
              "      <td>79.0</td>\n",
              "      <td>1</td>\n",
              "      <td>0</td>\n",
              "      <td>Yes</td>\n",
              "      <td>Self-employed</td>\n",
              "      <td>Rural</td>\n",
              "      <td>174.12</td>\n",
              "      <td>24.0</td>\n",
              "      <td>never smoked</td>\n",
              "      <td>1</td>\n",
              "    </tr>\n",
              "  </tbody>\n",
              "</table>\n",
              "</div>\n",
              "      <button class=\"colab-df-convert\" onclick=\"convertToInteractive('df-57a2ca8f-df16-4d1a-a6f4-e5e22478d879')\"\n",
              "              title=\"Convert this dataframe to an interactive table.\"\n",
              "              style=\"display:none;\">\n",
              "        \n",
              "  <svg xmlns=\"http://www.w3.org/2000/svg\" height=\"24px\"viewBox=\"0 0 24 24\"\n",
              "       width=\"24px\">\n",
              "    <path d=\"M0 0h24v24H0V0z\" fill=\"none\"/>\n",
              "    <path d=\"M18.56 5.44l.94 2.06.94-2.06 2.06-.94-2.06-.94-.94-2.06-.94 2.06-2.06.94zm-11 1L8.5 8.5l.94-2.06 2.06-.94-2.06-.94L8.5 2.5l-.94 2.06-2.06.94zm10 10l.94 2.06.94-2.06 2.06-.94-2.06-.94-.94-2.06-.94 2.06-2.06.94z\"/><path d=\"M17.41 7.96l-1.37-1.37c-.4-.4-.92-.59-1.43-.59-.52 0-1.04.2-1.43.59L10.3 9.45l-7.72 7.72c-.78.78-.78 2.05 0 2.83L4 21.41c.39.39.9.59 1.41.59.51 0 1.02-.2 1.41-.59l7.78-7.78 2.81-2.81c.8-.78.8-2.07 0-2.86zM5.41 20L4 18.59l7.72-7.72 1.47 1.35L5.41 20z\"/>\n",
              "  </svg>\n",
              "      </button>\n",
              "      \n",
              "  <style>\n",
              "    .colab-df-container {\n",
              "      display:flex;\n",
              "      flex-wrap:wrap;\n",
              "      gap: 12px;\n",
              "    }\n",
              "\n",
              "    .colab-df-convert {\n",
              "      background-color: #E8F0FE;\n",
              "      border: none;\n",
              "      border-radius: 50%;\n",
              "      cursor: pointer;\n",
              "      display: none;\n",
              "      fill: #1967D2;\n",
              "      height: 32px;\n",
              "      padding: 0 0 0 0;\n",
              "      width: 32px;\n",
              "    }\n",
              "\n",
              "    .colab-df-convert:hover {\n",
              "      background-color: #E2EBFA;\n",
              "      box-shadow: 0px 1px 2px rgba(60, 64, 67, 0.3), 0px 1px 3px 1px rgba(60, 64, 67, 0.15);\n",
              "      fill: #174EA6;\n",
              "    }\n",
              "\n",
              "    [theme=dark] .colab-df-convert {\n",
              "      background-color: #3B4455;\n",
              "      fill: #D2E3FC;\n",
              "    }\n",
              "\n",
              "    [theme=dark] .colab-df-convert:hover {\n",
              "      background-color: #434B5C;\n",
              "      box-shadow: 0px 1px 3px 1px rgba(0, 0, 0, 0.15);\n",
              "      filter: drop-shadow(0px 1px 2px rgba(0, 0, 0, 0.3));\n",
              "      fill: #FFFFFF;\n",
              "    }\n",
              "  </style>\n",
              "\n",
              "      <script>\n",
              "        const buttonEl =\n",
              "          document.querySelector('#df-57a2ca8f-df16-4d1a-a6f4-e5e22478d879 button.colab-df-convert');\n",
              "        buttonEl.style.display =\n",
              "          google.colab.kernel.accessAllowed ? 'block' : 'none';\n",
              "\n",
              "        async function convertToInteractive(key) {\n",
              "          const element = document.querySelector('#df-57a2ca8f-df16-4d1a-a6f4-e5e22478d879');\n",
              "          const dataTable =\n",
              "            await google.colab.kernel.invokeFunction('convertToInteractive',\n",
              "                                                     [key], {});\n",
              "          if (!dataTable) return;\n",
              "\n",
              "          const docLinkHtml = 'Like what you see? Visit the ' +\n",
              "            '<a target=\"_blank\" href=https://colab.research.google.com/notebooks/data_table.ipynb>data table notebook</a>'\n",
              "            + ' to learn more about interactive tables.';\n",
              "          element.innerHTML = '';\n",
              "          dataTable['output_type'] = 'display_data';\n",
              "          await google.colab.output.renderOutput(dataTable, element);\n",
              "          const docLink = document.createElement('div');\n",
              "          docLink.innerHTML = docLinkHtml;\n",
              "          element.appendChild(docLink);\n",
              "        }\n",
              "      </script>\n",
              "    </div>\n",
              "  </div>\n",
              "  "
            ]
          },
          "metadata": {},
          "execution_count": 280
        }
      ]
    },
    {
      "cell_type": "markdown",
      "source": [
        "##Discretização dos Dados"
      ],
      "metadata": {
        "id": "y3jiH0XbDSfS"
      }
    },
    {
      "cell_type": "markdown",
      "source": [
        " Discretização de dados que ainda não possuem forma numérica/tratével, de forma que possamos aplicar os algoritmos de forma prática."
      ],
      "metadata": {
        "id": "741HUU7ClvZU"
      }
    },
    {
      "cell_type": "code",
      "source": [
        "from sklearn.preprocessing import LabelEncoder\n",
        "le = LabelEncoder()\n",
        "data['ever_married'] = le.fit_transform(data['ever_married'])\n",
        "data['smoking_status'] = le.fit_transform(data['smoking_status'])\n",
        "data['Residence_type'] = le.fit_transform(data['Residence_type'])\n",
        "data['gender'] = le.fit_transform(data['gender'])\n",
        "data['work_type'] = le.fit_transform(data['work_type'])\n",
        "data.head()"
      ],
      "metadata": {
        "id": "HmAJp5z5l4E-",
        "colab": {
          "base_uri": "https://localhost:8080/",
          "height": 206
        },
        "outputId": "43eb4a38-ea81-4d0f-f9da-a9b4cd1e435b"
      },
      "execution_count": null,
      "outputs": [
        {
          "output_type": "execute_result",
          "data": {
            "text/plain": [
              "   gender   age  hypertension  heart_disease  ever_married  work_type  \\\n",
              "0       1  67.0             0              1             1          2   \n",
              "1       0  61.0             0              0             1          3   \n",
              "2       1  80.0             0              1             1          2   \n",
              "3       0  49.0             0              0             1          2   \n",
              "4       0  79.0             1              0             1          3   \n",
              "\n",
              "   Residence_type  avg_glucose_level   bmi  smoking_status  stroke  \n",
              "0               1             228.69  36.6               1       1  \n",
              "1               0             202.21   NaN               2       1  \n",
              "2               0             105.92  32.5               2       1  \n",
              "3               1             171.23  34.4               3       1  \n",
              "4               0             174.12  24.0               2       1  "
            ],
            "text/html": [
              "\n",
              "  <div id=\"df-2c9899b1-7104-4b31-a41f-a461e6ff0dee\">\n",
              "    <div class=\"colab-df-container\">\n",
              "      <div>\n",
              "<style scoped>\n",
              "    .dataframe tbody tr th:only-of-type {\n",
              "        vertical-align: middle;\n",
              "    }\n",
              "\n",
              "    .dataframe tbody tr th {\n",
              "        vertical-align: top;\n",
              "    }\n",
              "\n",
              "    .dataframe thead th {\n",
              "        text-align: right;\n",
              "    }\n",
              "</style>\n",
              "<table border=\"1\" class=\"dataframe\">\n",
              "  <thead>\n",
              "    <tr style=\"text-align: right;\">\n",
              "      <th></th>\n",
              "      <th>gender</th>\n",
              "      <th>age</th>\n",
              "      <th>hypertension</th>\n",
              "      <th>heart_disease</th>\n",
              "      <th>ever_married</th>\n",
              "      <th>work_type</th>\n",
              "      <th>Residence_type</th>\n",
              "      <th>avg_glucose_level</th>\n",
              "      <th>bmi</th>\n",
              "      <th>smoking_status</th>\n",
              "      <th>stroke</th>\n",
              "    </tr>\n",
              "  </thead>\n",
              "  <tbody>\n",
              "    <tr>\n",
              "      <th>0</th>\n",
              "      <td>1</td>\n",
              "      <td>67.0</td>\n",
              "      <td>0</td>\n",
              "      <td>1</td>\n",
              "      <td>1</td>\n",
              "      <td>2</td>\n",
              "      <td>1</td>\n",
              "      <td>228.69</td>\n",
              "      <td>36.6</td>\n",
              "      <td>1</td>\n",
              "      <td>1</td>\n",
              "    </tr>\n",
              "    <tr>\n",
              "      <th>1</th>\n",
              "      <td>0</td>\n",
              "      <td>61.0</td>\n",
              "      <td>0</td>\n",
              "      <td>0</td>\n",
              "      <td>1</td>\n",
              "      <td>3</td>\n",
              "      <td>0</td>\n",
              "      <td>202.21</td>\n",
              "      <td>NaN</td>\n",
              "      <td>2</td>\n",
              "      <td>1</td>\n",
              "    </tr>\n",
              "    <tr>\n",
              "      <th>2</th>\n",
              "      <td>1</td>\n",
              "      <td>80.0</td>\n",
              "      <td>0</td>\n",
              "      <td>1</td>\n",
              "      <td>1</td>\n",
              "      <td>2</td>\n",
              "      <td>0</td>\n",
              "      <td>105.92</td>\n",
              "      <td>32.5</td>\n",
              "      <td>2</td>\n",
              "      <td>1</td>\n",
              "    </tr>\n",
              "    <tr>\n",
              "      <th>3</th>\n",
              "      <td>0</td>\n",
              "      <td>49.0</td>\n",
              "      <td>0</td>\n",
              "      <td>0</td>\n",
              "      <td>1</td>\n",
              "      <td>2</td>\n",
              "      <td>1</td>\n",
              "      <td>171.23</td>\n",
              "      <td>34.4</td>\n",
              "      <td>3</td>\n",
              "      <td>1</td>\n",
              "    </tr>\n",
              "    <tr>\n",
              "      <th>4</th>\n",
              "      <td>0</td>\n",
              "      <td>79.0</td>\n",
              "      <td>1</td>\n",
              "      <td>0</td>\n",
              "      <td>1</td>\n",
              "      <td>3</td>\n",
              "      <td>0</td>\n",
              "      <td>174.12</td>\n",
              "      <td>24.0</td>\n",
              "      <td>2</td>\n",
              "      <td>1</td>\n",
              "    </tr>\n",
              "  </tbody>\n",
              "</table>\n",
              "</div>\n",
              "      <button class=\"colab-df-convert\" onclick=\"convertToInteractive('df-2c9899b1-7104-4b31-a41f-a461e6ff0dee')\"\n",
              "              title=\"Convert this dataframe to an interactive table.\"\n",
              "              style=\"display:none;\">\n",
              "        \n",
              "  <svg xmlns=\"http://www.w3.org/2000/svg\" height=\"24px\"viewBox=\"0 0 24 24\"\n",
              "       width=\"24px\">\n",
              "    <path d=\"M0 0h24v24H0V0z\" fill=\"none\"/>\n",
              "    <path d=\"M18.56 5.44l.94 2.06.94-2.06 2.06-.94-2.06-.94-.94-2.06-.94 2.06-2.06.94zm-11 1L8.5 8.5l.94-2.06 2.06-.94-2.06-.94L8.5 2.5l-.94 2.06-2.06.94zm10 10l.94 2.06.94-2.06 2.06-.94-2.06-.94-.94-2.06-.94 2.06-2.06.94z\"/><path d=\"M17.41 7.96l-1.37-1.37c-.4-.4-.92-.59-1.43-.59-.52 0-1.04.2-1.43.59L10.3 9.45l-7.72 7.72c-.78.78-.78 2.05 0 2.83L4 21.41c.39.39.9.59 1.41.59.51 0 1.02-.2 1.41-.59l7.78-7.78 2.81-2.81c.8-.78.8-2.07 0-2.86zM5.41 20L4 18.59l7.72-7.72 1.47 1.35L5.41 20z\"/>\n",
              "  </svg>\n",
              "      </button>\n",
              "      \n",
              "  <style>\n",
              "    .colab-df-container {\n",
              "      display:flex;\n",
              "      flex-wrap:wrap;\n",
              "      gap: 12px;\n",
              "    }\n",
              "\n",
              "    .colab-df-convert {\n",
              "      background-color: #E8F0FE;\n",
              "      border: none;\n",
              "      border-radius: 50%;\n",
              "      cursor: pointer;\n",
              "      display: none;\n",
              "      fill: #1967D2;\n",
              "      height: 32px;\n",
              "      padding: 0 0 0 0;\n",
              "      width: 32px;\n",
              "    }\n",
              "\n",
              "    .colab-df-convert:hover {\n",
              "      background-color: #E2EBFA;\n",
              "      box-shadow: 0px 1px 2px rgba(60, 64, 67, 0.3), 0px 1px 3px 1px rgba(60, 64, 67, 0.15);\n",
              "      fill: #174EA6;\n",
              "    }\n",
              "\n",
              "    [theme=dark] .colab-df-convert {\n",
              "      background-color: #3B4455;\n",
              "      fill: #D2E3FC;\n",
              "    }\n",
              "\n",
              "    [theme=dark] .colab-df-convert:hover {\n",
              "      background-color: #434B5C;\n",
              "      box-shadow: 0px 1px 3px 1px rgba(0, 0, 0, 0.15);\n",
              "      filter: drop-shadow(0px 1px 2px rgba(0, 0, 0, 0.3));\n",
              "      fill: #FFFFFF;\n",
              "    }\n",
              "  </style>\n",
              "\n",
              "      <script>\n",
              "        const buttonEl =\n",
              "          document.querySelector('#df-2c9899b1-7104-4b31-a41f-a461e6ff0dee button.colab-df-convert');\n",
              "        buttonEl.style.display =\n",
              "          google.colab.kernel.accessAllowed ? 'block' : 'none';\n",
              "\n",
              "        async function convertToInteractive(key) {\n",
              "          const element = document.querySelector('#df-2c9899b1-7104-4b31-a41f-a461e6ff0dee');\n",
              "          const dataTable =\n",
              "            await google.colab.kernel.invokeFunction('convertToInteractive',\n",
              "                                                     [key], {});\n",
              "          if (!dataTable) return;\n",
              "\n",
              "          const docLinkHtml = 'Like what you see? Visit the ' +\n",
              "            '<a target=\"_blank\" href=https://colab.research.google.com/notebooks/data_table.ipynb>data table notebook</a>'\n",
              "            + ' to learn more about interactive tables.';\n",
              "          element.innerHTML = '';\n",
              "          dataTable['output_type'] = 'display_data';\n",
              "          await google.colab.output.renderOutput(dataTable, element);\n",
              "          const docLink = document.createElement('div');\n",
              "          docLink.innerHTML = docLinkHtml;\n",
              "          element.appendChild(docLink);\n",
              "        }\n",
              "      </script>\n",
              "    </div>\n",
              "  </div>\n",
              "  "
            ]
          },
          "metadata": {},
          "execution_count": 281
        }
      ]
    },
    {
      "cell_type": "markdown",
      "source": [
        "##Dados faltantes: Preenche-los ou Removê-los?"
      ],
      "metadata": {
        "id": "kWBdfsO8BK1J"
      }
    },
    {
      "cell_type": "markdown",
      "source": [
        "A seguir, iremos fazer uma copia para separar um caso aonde o dataset tem as amostras com dados faltantes removidos e outra com esses dados preenchidos. Mais adiante, iremos comparar qual abordagem é a melhor.\n",
        "\n",
        "Primeiro, é importante saber quanto são os dados faltantes."
      ],
      "metadata": {
        "id": "wtWSajhJBYsJ"
      }
    },
    {
      "cell_type": "code",
      "source": [
        "print(data.isnull().sum())  # descobre-se quais colunas possuem dados faltantes"
      ],
      "metadata": {
        "colab": {
          "base_uri": "https://localhost:8080/"
        },
        "id": "5aO3migiDT8n",
        "outputId": "4d7b209a-0b29-41c4-a666-f9494356185d"
      },
      "execution_count": null,
      "outputs": [
        {
          "output_type": "stream",
          "name": "stdout",
          "text": [
            "gender                 0\n",
            "age                    0\n",
            "hypertension           0\n",
            "heart_disease          0\n",
            "ever_married           0\n",
            "work_type              0\n",
            "Residence_type         0\n",
            "avg_glucose_level      0\n",
            "bmi                  201\n",
            "smoking_status         0\n",
            "stroke                 0\n",
            "dtype: int64\n"
          ]
        }
      ]
    },
    {
      "cell_type": "markdown",
      "source": [
        "Agora podemos fazer a separação."
      ],
      "metadata": {
        "id": "20AEDJrSDU64"
      }
    },
    {
      "cell_type": "code",
      "source": [
        "# copia o csv\n",
        "filled_data = data.copy()\n",
        "\n",
        "# remove os dados faltantes do data original\n",
        "data_clean = data.copy()\n",
        "data_clean.dropna(inplace=True)\n",
        "\n",
        "# obtendo valor medio de 'bmi' para futuro preenchimento\n",
        "mean = filled_data['bmi'].mean()\n",
        "\n",
        "# preenchimento dos NaNs com as médias\n",
        "filled_data['bmi'].fillna(value=mean, inplace=True)\n",
        "\n",
        "X_filled = filled_data.drop('stroke', axis=1)\n",
        "y_filled = filled_data['stroke']\n",
        "\n",
        "X_clean = data_clean.drop('stroke',axis=1)\n",
        "y_clean = data_clean['stroke']"
      ],
      "metadata": {
        "id": "uG6a3BI1Db5Y"
      },
      "execution_count": null,
      "outputs": []
    },
    {
      "cell_type": "markdown",
      "source": [
        "##Como os dados estão distribuidos?"
      ],
      "metadata": {
        "id": "1YHfM07Zbawo"
      }
    },
    {
      "cell_type": "markdown",
      "source": [
        "Hora de compararmos os dados em que há derrame e aqueles em que não houve derrame. Caso haja um desbalanço, podemos aplicar técnicas de sampling."
      ],
      "metadata": {
        "id": "yPC4CXS7czEf"
      }
    },
    {
      "cell_type": "code",
      "source": [
        "from sklearn.model_selection import train_test_split\n",
        "X_train_Clean, X_test_Clean, y_train_Clean, y_test_Clean = train_test_split(X_clean, y_clean, test_size=0.30) # Separacao dos dados de treino e teste\n",
        "print(\"cenario antes do sampling\")\n",
        "print(y_train_Clean.value_counts())\n",
        "y_train_Clean.value_counts().plot.pie(autopct='%.2f')"
      ],
      "metadata": {
        "colab": {
          "base_uri": "https://localhost:8080/",
          "height": 335
        },
        "id": "rk6Y9hWUm6Zb",
        "outputId": "bf8e6e65-6065-45a4-b261-1728dfb594ae"
      },
      "execution_count": null,
      "outputs": [
        {
          "output_type": "stream",
          "name": "stdout",
          "text": [
            "cenario antes do sampling\n",
            "0    3288\n",
            "1     148\n",
            "Name: stroke, dtype: int64\n"
          ]
        },
        {
          "output_type": "execute_result",
          "data": {
            "text/plain": [
              "<matplotlib.axes._subplots.AxesSubplot at 0x7fcc094a0a90>"
            ]
          },
          "metadata": {},
          "execution_count": 284
        },
        {
          "output_type": "display_data",
          "data": {
            "text/plain": [
              "<Figure size 432x288 with 1 Axes>"
            ],
            "image/png": "[encoded data removed]"
          },
          "metadata": {}
        }
      ]
    },
    {
      "cell_type": "markdown",
      "source": [
        "Aqui, é um cenário no qual são mostrados os dados antes do sampling no dataset com os dados preenchidos de maneira sintética. "
      ],
      "metadata": {
        "id": "CBjG41T7D9QX"
      }
    },
    {
      "cell_type": "code",
      "source": [
        "from sklearn.model_selection import train_test_split\n",
        "X_train_Filled, X_test_Filled, y_train_Filled, y_test_Filled= train_test_split(X_filled, y_filled, test_size=0.30) # Separacao dos dados de treino e teste\n",
        "print(\"cenario (dados preenchidos) antes do oversampling\")\n",
        "print(y_train_Filled.value_counts())\n",
        "y_train_Filled.value_counts().plot.pie(autopct='%.2f')"
      ],
      "metadata": {
        "colab": {
          "base_uri": "https://localhost:8080/",
          "height": 335
        },
        "id": "_8KaM8Q7EZkO",
        "outputId": "8adf0a9a-df6d-49b5-e04c-4502f275c159"
      },
      "execution_count": null,
      "outputs": [
        {
          "output_type": "stream",
          "name": "stdout",
          "text": [
            "cenario (dados preenchidos) antes do oversampling\n",
            "0    3401\n",
            "1     176\n",
            "Name: stroke, dtype: int64\n"
          ]
        },
        {
          "output_type": "execute_result",
          "data": {
            "text/plain": [
              "<matplotlib.axes._subplots.AxesSubplot at 0x7fcc09426bb0>"
            ]
          },
          "metadata": {},
          "execution_count": 285
        },
        {
          "output_type": "display_data",
          "data": {
            "text/plain": [
              "<Figure size 432x288 with 1 Axes>"
            ],
            "image/png": "[encoded data removed]"
          },
          "metadata": {}
        }
      ]
    },
    {
      "cell_type": "markdown",
      "source": [
        "##Oversampling"
      ],
      "metadata": {
        "id": "FIUSV1JFDbrg"
      }
    },
    {
      "cell_type": "markdown",
      "source": [
        "Como se pode observar, há uma dominância quase total de casos em que não houve derrame. Assim, começaremos o balanceamento aplicando uma técnica de overmsampling."
      ],
      "metadata": {
        "id": "YqJi6gdznBjm"
      }
    },
    {
      "cell_type": "code",
      "source": [
        "from imblearn.over_sampling import RandomOverSampler\n",
        "ros = RandomOverSampler(sampling_strategy=1)\n",
        "X_res, y_res = ros.fit_resample(X_train_Clean, y_train_Clean)\n",
        "print(\"cenario pos oversampling\")\n",
        "print(y_res.value_counts())\n",
        "# Atualiza os dados com o oversampling\n",
        "data_clean_over = pd.concat([X_res.reset_index(), y_res.reset_index()], axis=1,\n",
        "                 ignore_index=False).drop(columns='index')\n",
        "ax = y_res.value_counts().plot.pie(autopct='%.2f')\n",
        "_ = ax.set_title(\"Over-sampling\")\n",
        "X_train_Clean_over = X_res\n",
        "y_train_Clean_over = y_res"
      ],
      "metadata": {
        "colab": {
          "base_uri": "https://localhost:8080/",
          "height": 333
        },
        "id": "TCm0PnKlnUR6",
        "outputId": "3243ff44-d00a-43ac-bf15-c3d6b96ce0a6"
      },
      "execution_count": null,
      "outputs": [
        {
          "output_type": "stream",
          "name": "stdout",
          "text": [
            "cenario pos oversampling\n",
            "0    3288\n",
            "1    3288\n",
            "Name: stroke, dtype: int64\n"
          ]
        },
        {
          "output_type": "display_data",
          "data": {
            "text/plain": [
              "<Figure size 432x288 with 1 Axes>"
            ],
            "image/png": "[encoded data removed]"
          },
          "metadata": {}
        }
      ]
    },
    {
      "cell_type": "code",
      "source": [
        "ros = RandomOverSampler(sampling_strategy=1)\n",
        "X_res, y_res = ros.fit_resample(X_train_Filled, y_train_Filled)\n",
        "print(\"cenario pos oversampling (dados preenchidos)\")\n",
        "print(y_res.value_counts())\n",
        "# Atualiza os dados com o oversampling\n",
        "filled_data_over = pd.concat([X_res.reset_index(), y_res.reset_index()], axis=1,\n",
        "                 ignore_index=False).drop(columns='index')\n",
        "ax = y_res.value_counts().plot.pie(autopct='%.2f')\n",
        "_ = ax.set_title(\"Over-sampling (dados preenchidos)\")\n",
        "X_train_Filled_over = X_res\n",
        "y_train_Filled_over = y_res"
      ],
      "metadata": {
        "colab": {
          "base_uri": "https://localhost:8080/",
          "height": 333
        },
        "id": "d02rnP_bFaKN",
        "outputId": "32abb49b-14cc-4d3b-8490-37f55b71e97f"
      },
      "execution_count": null,
      "outputs": [
        {
          "output_type": "stream",
          "name": "stdout",
          "text": [
            "cenario pos oversampling (dados preenchidos)\n",
            "0    3401\n",
            "1    3401\n",
            "Name: stroke, dtype: int64\n"
          ]
        },
        {
          "output_type": "display_data",
          "data": {
            "text/plain": [
              "<Figure size 432x288 with 1 Axes>"
            ],
            "image/png": "[encoded data removed]"
          },
          "metadata": {}
        }
      ]
    },
    {
      "cell_type": "markdown",
      "source": [
        "##Undersampling"
      ],
      "metadata": {
        "id": "b0qeCJHzhCSg"
      }
    },
    {
      "cell_type": "markdown",
      "source": [
        "Outra estratégia para o balanceamento de dados é o undersampling. Também iremos utilizar desse modo de balanceamento e, posteriormente, iremos analisar qual a melhor técnica."
      ],
      "metadata": {
        "id": "Ie9s5lfrhGJC"
      }
    },
    {
      "cell_type": "code",
      "source": [
        "from imblearn.under_sampling import RandomUnderSampler\n",
        "rus = RandomUnderSampler(sampling_strategy=1)\n",
        "X_res, y_res = rus.fit_resample(X_train_Clean, y_train_Clean)\n",
        "print(\"cenario pos undersampling\")\n",
        "print(y_res.value_counts())\n",
        "# Atualiza os dados com o undersampling\n",
        "data_clean_under = pd.concat([X_res.reset_index(), y_res.reset_index()], axis=1,\n",
        "                 ignore_index=False).drop(columns='index')\n",
        "ax = y_res.value_counts().plot.pie(autopct='%.2f')\n",
        "_ = ax.set_title(\"Under-sampling\")\n",
        "X_train_Clean_under = X_res\n",
        "y_train_Clean_under = y_res"
      ],
      "metadata": {
        "colab": {
          "base_uri": "https://localhost:8080/",
          "height": 333
        },
        "id": "gt20UapbhfTs",
        "outputId": "1c58ba70-643c-4c4d-98c3-61fb7d280391"
      },
      "execution_count": null,
      "outputs": [
        {
          "output_type": "stream",
          "name": "stdout",
          "text": [
            "cenario pos undersampling\n",
            "0    148\n",
            "1    148\n",
            "Name: stroke, dtype: int64\n"
          ]
        },
        {
          "output_type": "display_data",
          "data": {
            "text/plain": [
              "<Figure size 432x288 with 1 Axes>"
            ],
            "image/png": "[encoded data removed]"
          },
          "metadata": {}
        }
      ]
    },
    {
      "cell_type": "code",
      "source": [
        "rus = RandomUnderSampler(sampling_strategy=1)\n",
        "X_res, y_res = rus.fit_resample(X_train_Filled, y_train_Filled)\n",
        "print(\"cenario pos undersampling (dados preenchidos)\")\n",
        "print(y_res.value_counts())\n",
        "# Atualiza os dados com o oversampling\n",
        "filled_data_under = pd.concat([X_res.reset_index(), y_res.reset_index()], axis=1,\n",
        "                 ignore_index=False).drop(columns='index')\n",
        "ax = y_res.value_counts().plot.pie(autopct='%.2f')\n",
        "_ = ax.set_title(\"Under-sampling (dados preenchidos)\")\n",
        "X_train_Filled_under = X_res\n",
        "y_train_Filled_under = y_res"
      ],
      "metadata": {
        "colab": {
          "base_uri": "https://localhost:8080/",
          "height": 333
        },
        "id": "5sW71rz9hgDu",
        "outputId": "294e2c50-2a1e-47bd-c571-df07b4f14d02"
      },
      "execution_count": null,
      "outputs": [
        {
          "output_type": "stream",
          "name": "stdout",
          "text": [
            "cenario pos undersampling (dados preenchidos)\n",
            "0    176\n",
            "1    176\n",
            "Name: stroke, dtype: int64\n"
          ]
        },
        {
          "output_type": "display_data",
          "data": {
            "text/plain": [
              "<Figure size 432x288 with 1 Axes>"
            ],
            "image/png": "[encoded data removed]"
          },
          "metadata": {}
        }
      ]
    },
    {
      "cell_type": "markdown",
      "source": [
        "##Remoção de outliers"
      ],
      "metadata": {
        "id": "10CxVP5ImBoO"
      }
    },
    {
      "cell_type": "markdown",
      "source": [
        "Agora, vamos realizar a remoção de valores que são extremos em nosso dataset, isto é, possuem valores que não auxiliarão no processo de classificação pois não seguem o comportamento \"dentro do normal\" dos outros dados."
      ],
      "metadata": {
        "id": "L7DyQNpTMg7c"
      }
    },
    {
      "cell_type": "code",
      "source": [
        "from sklearn.ensemble import IsolationForest\n",
        "iso = IsolationForest(n_estimators=1000, contamination=0.03)\n",
        "outs = pd.Series(iso.fit_predict(data_clean_over[['bmi', 'avg_glucose_level']]),\n",
        "                 name='outliers')\n",
        "print(outs.value_counts())\n",
        "\n",
        "data_clean_over = pd.concat([outs.reset_index(), data_clean_over.reset_index()], axis=1,\n",
        "                 ignore_index=False).drop(columns='index')\n",
        "data_clean_over = data_clean_over[data_clean_over['outliers'] == 1]\n",
        "data_clean_over.pop('outliers')"
      ],
      "metadata": {
        "colab": {
          "base_uri": "https://localhost:8080/"
        },
        "id": "wYuy3cBUGArr",
        "outputId": "18229234-c5f7-45e4-c3de-f33905e9fffe"
      },
      "execution_count": null,
      "outputs": [
        {
          "output_type": "stream",
          "name": "stderr",
          "text": [
            "/usr/local/lib/python3.8/dist-packages/sklearn/base.py:450: UserWarning: X does not have valid feature names, but IsolationForest was fitted with feature names\n",
            "  warnings.warn(\n"
          ]
        },
        {
          "output_type": "stream",
          "name": "stdout",
          "text": [
            " 1    6378\n",
            "-1     198\n",
            "Name: outliers, dtype: int64\n"
          ]
        },
        {
          "output_type": "execute_result",
          "data": {
            "text/plain": [
              "0       1\n",
              "1       1\n",
              "2       1\n",
              "3       1\n",
              "4       1\n",
              "       ..\n",
              "6571    1\n",
              "6572    1\n",
              "6573    1\n",
              "6574    1\n",
              "6575    1\n",
              "Name: outliers, Length: 6378, dtype: int64"
            ]
          },
          "metadata": {},
          "execution_count": 290
        }
      ]
    },
    {
      "cell_type": "code",
      "source": [
        "from sklearn.ensemble import IsolationForest\n",
        "iso = IsolationForest(n_estimators=1000, contamination=0.03)\n",
        "outs = pd.Series(iso.fit_predict(data_clean_under[['bmi', 'avg_glucose_level']]),\n",
        "                 name='outliers')\n",
        "print(outs.value_counts())\n",
        "\n",
        "data_clean_under = pd.concat([outs.reset_index(), data_clean_under.reset_index()], axis=1,\n",
        "                 ignore_index=False).drop(columns='index')\n",
        "data_clean_under = data_clean_under[data_clean_under['outliers'] == 1]\n",
        "data_clean_under.pop('outliers')"
      ],
      "metadata": {
        "colab": {
          "base_uri": "https://localhost:8080/"
        },
        "id": "ck6ar3o7tE7Z",
        "outputId": "24532158-53ad-43cb-e023-2e65edb9861e"
      },
      "execution_count": null,
      "outputs": [
        {
          "output_type": "stream",
          "name": "stderr",
          "text": [
            "/usr/local/lib/python3.8/dist-packages/sklearn/base.py:450: UserWarning: X does not have valid feature names, but IsolationForest was fitted with feature names\n",
            "  warnings.warn(\n"
          ]
        },
        {
          "output_type": "stream",
          "name": "stdout",
          "text": [
            " 1    287\n",
            "-1      9\n",
            "Name: outliers, dtype: int64\n"
          ]
        },
        {
          "output_type": "execute_result",
          "data": {
            "text/plain": [
              "0      1\n",
              "1      1\n",
              "2      1\n",
              "3      1\n",
              "4      1\n",
              "      ..\n",
              "291    1\n",
              "292    1\n",
              "293    1\n",
              "294    1\n",
              "295    1\n",
              "Name: outliers, Length: 287, dtype: int64"
            ]
          },
          "metadata": {},
          "execution_count": 291
        }
      ]
    },
    {
      "cell_type": "code",
      "source": [
        "iso = IsolationForest(n_estimators=1000, contamination=0.03)\n",
        "outs = pd.Series(iso.fit_predict(filled_data_over[['bmi', 'avg_glucose_level']]),\n",
        "                 name='outliers')\n",
        "print(outs.value_counts())\n",
        "\n",
        "filled_data_over = pd.concat([outs.reset_index(), filled_data_over.reset_index()], axis=1,\n",
        "                 ignore_index=False).drop(columns='index')\n",
        "filled_data_over = filled_data_over[filled_data_over['outliers'] == 1]\n",
        "filled_data_over.pop('outliers')"
      ],
      "metadata": {
        "colab": {
          "base_uri": "https://localhost:8080/"
        },
        "id": "OjQ-SoAsGk5s",
        "outputId": "9ac95c5d-526b-442b-d410-49c13df56463"
      },
      "execution_count": null,
      "outputs": [
        {
          "output_type": "stream",
          "name": "stderr",
          "text": [
            "/usr/local/lib/python3.8/dist-packages/sklearn/base.py:450: UserWarning: X does not have valid feature names, but IsolationForest was fitted with feature names\n",
            "  warnings.warn(\n"
          ]
        },
        {
          "output_type": "stream",
          "name": "stdout",
          "text": [
            " 1    6597\n",
            "-1     205\n",
            "Name: outliers, dtype: int64\n"
          ]
        },
        {
          "output_type": "execute_result",
          "data": {
            "text/plain": [
              "0       1\n",
              "1       1\n",
              "2       1\n",
              "3       1\n",
              "4       1\n",
              "       ..\n",
              "6797    1\n",
              "6798    1\n",
              "6799    1\n",
              "6800    1\n",
              "6801    1\n",
              "Name: outliers, Length: 6597, dtype: int64"
            ]
          },
          "metadata": {},
          "execution_count": 292
        }
      ]
    },
    {
      "cell_type": "code",
      "source": [
        "iso = IsolationForest(n_estimators=1000, contamination=0.03)\n",
        "outs = pd.Series(iso.fit_predict(filled_data_under[['bmi', 'avg_glucose_level']]),\n",
        "                 name='outliers')\n",
        "print(outs.value_counts())\n",
        "\n",
        "filled_data_under = pd.concat([outs.reset_index(), filled_data_under.reset_index()], axis=1,\n",
        "                 ignore_index=False).drop(columns='index')\n",
        "filled_data_under = filled_data_under[filled_data_under['outliers'] == 1]\n",
        "filled_data_under.pop('outliers')"
      ],
      "metadata": {
        "colab": {
          "base_uri": "https://localhost:8080/"
        },
        "id": "B1ptQ2MQttrE",
        "outputId": "f4f09476-ced6-4930-90f6-4afeebfc1dd1"
      },
      "execution_count": null,
      "outputs": [
        {
          "output_type": "stream",
          "name": "stderr",
          "text": [
            "/usr/local/lib/python3.8/dist-packages/sklearn/base.py:450: UserWarning: X does not have valid feature names, but IsolationForest was fitted with feature names\n",
            "  warnings.warn(\n"
          ]
        },
        {
          "output_type": "stream",
          "name": "stdout",
          "text": [
            " 1    341\n",
            "-1     11\n",
            "Name: outliers, dtype: int64\n"
          ]
        },
        {
          "output_type": "execute_result",
          "data": {
            "text/plain": [
              "0      1\n",
              "1      1\n",
              "2      1\n",
              "3      1\n",
              "4      1\n",
              "      ..\n",
              "347    1\n",
              "348    1\n",
              "349    1\n",
              "350    1\n",
              "351    1\n",
              "Name: outliers, Length: 341, dtype: int64"
            ]
          },
          "metadata": {},
          "execution_count": 293
        }
      ]
    },
    {
      "cell_type": "code",
      "source": [
        "#Atulizacao de variaveis\n",
        "\n",
        "X_filled_over = filled_data_over.drop('stroke', axis=1)\n",
        "y_filled_over = filled_data_over['stroke']\n",
        "\n",
        "X_clean_over = data_clean_over.drop('stroke',axis=1)\n",
        "y_clean_over = data_clean_over['stroke']\n",
        "\n",
        "X_filled_under = filled_data_under.drop('stroke', axis=1)\n",
        "y_filled_under = filled_data_under['stroke']\n",
        "\n",
        "X_clean_under = data_clean_under.drop('stroke',axis=1)\n",
        "y_clean_under = data_clean_under['stroke']"
      ],
      "metadata": {
        "id": "H-lsdcn3xhl6"
      },
      "execution_count": null,
      "outputs": []
    },
    {
      "cell_type": "markdown",
      "source": [
        "##Comparações: Base limpa ou Base Preenchida? Oversampling ou Undersampling?"
      ],
      "metadata": {
        "id": "ZNWcp7F1CYR2"
      }
    },
    {
      "cell_type": "markdown",
      "source": [
        "A seguir, faremos simples comparações com o algoritmo RandomForest para analisar se, com a remoção dos dados faltantes, o resultado final será pior do que com o preenchimento de valores sintéticos para substituir os NaN. Também, é possível plotar a matrix de confusão, para tornar observável os erros que as abordagens cometem na hora da predição."
      ],
      "metadata": {
        "id": "TEobTqRhCpVI"
      }
    },
    {
      "cell_type": "code",
      "source": [
        "from sklearn.model_selection import train_test_split\n",
        "from sklearn.ensemble import RandomForestClassifier\n",
        "from sklearn.metrics import accuracy_score, confusion_matrix, classification_report\n",
        "from sklearn.metrics import ConfusionMatrixDisplay\n",
        "from sklearn.metrics import recall_score\n",
        "import matplotlib.pyplot as plt\n",
        "\n",
        "filled_data_over_accuracies = []\n",
        "filled_data_under_accuracies = []\n",
        "data_over_accuracies = []\n",
        "data_under_accuracies = []\n",
        "numTests = 5\n",
        "\n",
        "# testes dados preenchidos oversampling\n",
        "for i in range(numTests):\n",
        "  X_train_f, X_test_f, y_train_f, y_test_f = train_test_split(X_filled_over, y_filled_over, test_size=0.30)# Separando teste e treino\n",
        "  model_filled_over = RandomForestClassifier()\n",
        "  model_filled_over.fit(X_train_f, y_train_f)\n",
        "  prediction = model_filled_over.predict(X_test_Filled)\n",
        "  filled_data_over_accuracies.append(recall_score(y_test_Filled, prediction, average='macro'))\n",
        "\n",
        "# testes dados preenchidos undersampling\n",
        "for i in range(numTests):\n",
        "  X_train_f, X_test_f, y_train_f, y_test_f = train_test_split(X_filled_under, y_filled_under, test_size=0.30)# Separando teste e treino\n",
        "  model_filled_under = RandomForestClassifier()\n",
        "  model_filled_under.fit(X_train_f, y_train_f)\n",
        "  prediction = model_filled_under.predict(X_test_Filled)\n",
        "  filled_data_under_accuracies.append(recall_score(y_test_Filled, prediction, average='macro'))\n",
        "\n",
        "# testes dados não preenchidos oversampling\n",
        "for i in range(numTests):\n",
        "  X_train, X_test, y_train, y_test = train_test_split(X_clean_over, y_clean_over, test_size=0.30)# Separando teste e treino\n",
        "  model_over = RandomForestClassifier()\n",
        "  model_over.fit(X_train, y_train)\n",
        "  prediction = model_over.predict(X_test_Clean)\n",
        "  data_over_accuracies.append(recall_score(y_test_Clean, prediction, average='macro'))\n",
        "\n",
        "# testes dados não preenchidos undersampling\n",
        "for i in range(numTests):\n",
        "  X_train, X_test, y_train, y_test = train_test_split(X_clean_under, y_clean_under, test_size=0.30)# Separando teste e treino\n",
        "  model_under = RandomForestClassifier()\n",
        "  model_under.fit(X_train, y_train)\n",
        "  prediction = model_under.predict(X_test_Clean)\n",
        "  data_under_accuracies.append(recall_score(y_test_Clean, prediction, average='macro'))\n",
        "\n",
        "# comparação das acurácias médias para 5 rodadas do algoritmo\n",
        "print(\"Acurácia média com os dados preenchidos (over): \", \"{:.2f}\".format(100 * (sum(filled_data_over_accuracies) / len(filled_data_over_accuracies))), \"%.\")\n",
        "print(\"Acurácia média com os dados preenchidos (under): \", \"{:.2f}\".format(100 * (sum(filled_data_under_accuracies) / len(filled_data_under_accuracies))), \"%.\")\n",
        "print(\"Acurácia média com os dados removidos (over): \", \"{:.2f}\".format(100 * (sum(data_over_accuracies) / len(data_over_accuracies))), \"%.\")\n",
        "print(\"Acurácia média com os dados removidos (under): \", \"{:.2f}\".format(100 * (sum(data_under_accuracies) / len(data_under_accuracies))), \"%.\")"
      ],
      "metadata": {
        "colab": {
          "base_uri": "https://localhost:8080/"
        },
        "id": "5fYsi9BNGJC2",
        "outputId": "81a847cc-fa51-484e-8c6e-cb2661e744a8"
      },
      "execution_count": null,
      "outputs": [
        {
          "output_type": "stream",
          "name": "stdout",
          "text": [
            "Acurácia média com os dados preenchidos (over):  52.64 %.\n",
            "Acurácia média com os dados preenchidos (under):  75.34 %.\n",
            "Acurácia média com os dados removidos (over):  52.80 %.\n",
            "Acurácia média com os dados removidos (under):  77.48 %.\n"
          ]
        }
      ]
    },
    {
      "cell_type": "code",
      "source": [
        "# plot das matrizes de confusão\n",
        "titles_options = [(\"dados preenchidos (over)\", model_filled_over, X_test_Filled, y_test_Filled),\n",
        "                  (\"dados preenchidos (under)\", model_filled_under, X_test_Filled, y_test_Filled),\n",
        "                  (\"dados removidos (over)\", model_over, X_test_Clean, y_test_Clean),\n",
        "                  (\"dados removidos (under)\", model_under, X_test_Clean, y_test_Clean)]\n",
        "                  \n",
        "for title, model, aux_test_x, aux_test_y in titles_options:\n",
        "    disp = ConfusionMatrixDisplay.from_estimator(\n",
        "        model,\n",
        "        aux_test_x,\n",
        "        aux_test_y,\n",
        "        display_labels=['Sem derrame', 'Derrame'],\n",
        "        cmap=plt.cm.Blues,\n",
        "        normalize= None,\n",
        "    )\n",
        "    disp.ax_.set_title(title)\n",
        "\n",
        "    print(title)\n",
        "    print(disp.confusion_matrix)"
      ],
      "metadata": {
        "colab": {
          "base_uri": "https://localhost:8080/",
          "height": 1000
        },
        "id": "LkY-PatS0k7T",
        "outputId": "7907b0be-af46-4a3b-e78c-73f3322bd3a6"
      },
      "execution_count": null,
      "outputs": [
        {
          "output_type": "stream",
          "name": "stdout",
          "text": [
            "dados preenchidos (over)\n",
            "[[1430   30]\n",
            " [  67    6]]\n",
            "dados preenchidos (under)\n",
            "[[915 545]\n",
            " [  7  66]]\n",
            "dados removidos (over)\n",
            "[[1394   18]\n",
            " [  57    4]]\n",
            "dados removidos (under)\n",
            "[[988 424]\n",
            " [ 10  51]]\n"
          ]
        },
        {
          "output_type": "display_data",
          "data": {
            "text/plain": [
              "<Figure size 432x288 with 2 Axes>"
            ],
            "image/png": "[encoded data removed]"
          },
          "metadata": {
            "needs_background": "light"
          }
        },
        {
          "output_type": "display_data",
          "data": {
            "text/plain": [
              "<Figure size 432x288 with 2 Axes>"
            ],
            "image/png": "[encoded data removed]"
          },
          "metadata": {
            "needs_background": "light"
          }
        },
        {
          "output_type": "display_data",
          "data": {
            "text/plain": [
              "<Figure size 432x288 with 2 Axes>"
            ],
            "image/png": "[encoded data removed]"
          },
          "metadata": {
            "needs_background": "light"
          }
        },
        {
          "output_type": "display_data",
          "data": {
            "text/plain": [
              "<Figure size 432x288 with 2 Axes>"
            ],
            "image/png": "[encoded data removed]"
          },
          "metadata": {
            "needs_background": "light"
          }
        }
      ]
    },
    {
      "cell_type": "markdown",
      "source": [
        "Com a análise feita acima, podemos concluir que a o melhor cenario para a aprendizagem dos modelos é aquele em que os dados foram removidos e foi aplicado o undersampling. É uma abordagem que, apesar de cometer falsos positivos nos casos em que não há derrame, obteve um melhor resultado no geral."
      ],
      "metadata": {
        "id": "aWOd-y4sLQFq"
      }
    },
    {
      "cell_type": "code",
      "source": [
        "data = data_clean_under.copy()\n",
        "X = X_clean_under\n",
        "y = y_clean_under\n",
        "X_test = X_test_Clean\n",
        "y_test = y_test_Clean"
      ],
      "metadata": {
        "id": "wYSidFJIH_yQ"
      },
      "execution_count": null,
      "outputs": []
    },
    {
      "cell_type": "markdown",
      "source": [
        "##Importância de cada feature para o resultado final"
      ],
      "metadata": {
        "id": "quSfympUDgVQ"
      }
    },
    {
      "cell_type": "markdown",
      "source": [
        "Agora, com os dados devidamente balanceados, podemos verificar a relação e a sua importância entre as features e os casos de derrame. Para isso, vamos começar utilizando o método feature_importances."
      ],
      "metadata": {
        "id": "MSHxoLHLnetb"
      }
    },
    {
      "cell_type": "code",
      "source": [
        "from sklearn.model_selection import train_test_split\n",
        "from sklearn.ensemble import RandomForestClassifier\n",
        "X_train, X_test_aux, y_train, y_test_aux = train_test_split(X, y, test_size=0.30, random_state=42)# Separando teste e treino\n",
        "model = RandomForestClassifier()\n",
        "model.fit(X_train, y_train)# Mostrando importância de cada feature\n",
        "importance_list = model.feature_importances_\n",
        "importance_dict = {}\n",
        "for i, importance in enumerate(importance_list):\n",
        "    importance_dict[data.columns[i]] = importance\n",
        "\n",
        "importance_dict = dict(sorted(importance_dict.items(), key=lambda item: item[1], reverse=True))\n",
        "y_axis = []\n",
        "x_axis = []\n",
        "for feature in importance_dict:\n",
        "  print(f'{feature}: {importance_dict[feature]}')\n",
        "  y_axis.append(feature)\n",
        "  x_axis.append(importance_dict[feature])\n",
        "plt.barh(y_axis, x_axis)\n",
        "plt.title('Importancia de cada feature')\n",
        "plt.ylabel('feature')\n",
        "plt.xlabel('importancia')\n",
        "plt.show()\n",
        "\n"
      ],
      "metadata": {
        "id": "5lku1C6ln2mv",
        "colab": {
          "base_uri": "https://localhost:8080/",
          "height": 469
        },
        "outputId": "cf226671-e878-4edb-8550-33b2885136ef"
      },
      "execution_count": null,
      "outputs": [
        {
          "output_type": "stream",
          "name": "stdout",
          "text": [
            "age: 0.44221999910959703\n",
            "avg_glucose_level: 0.18373369813864343\n",
            "bmi: 0.13250008276643171\n",
            "smoking_status: 0.05816830783917558\n",
            "work_type: 0.04989001435795133\n",
            "heart_disease: 0.031045590150470374\n",
            "ever_married: 0.026790797350085643\n",
            "hypertension: 0.02553015212197595\n",
            "gender: 0.025345386093879676\n",
            "Residence_type: 0.024775972071789356\n"
          ]
        },
        {
          "output_type": "display_data",
          "data": {
            "text/plain": [
              "<Figure size 432x288 with 1 Axes>"
            ],
            "image/png": "[encoded data removed]"
          },
          "metadata": {
            "needs_background": "light"
          }
        }
      ]
    },
    {
      "cell_type": "markdown",
      "source": [
        "Segundo esse modelo, as features mais importantes seriam: age, avg_glucose_level e bmi. As demais apresentam baixo impacto."
      ],
      "metadata": {
        "id": "8uS2OOk9hBNn"
      }
    },
    {
      "cell_type": "markdown",
      "source": [
        "###Heatmap"
      ],
      "metadata": {
        "id": "9AHMqsL1DuN8"
      }
    },
    {
      "cell_type": "markdown",
      "source": [
        "Também podemos utilizar o Heatmap de correlações para visualizar o nível de relação entre uma feature e ocorrência - ou não ocorrência - do avc."
      ],
      "metadata": {
        "id": "0v_AWt0zDuB4"
      }
    },
    {
      "cell_type": "code",
      "source": [
        "import matplotlib.pyplot as plt\n",
        "import seaborn as sns\n",
        "# HeatMap das features\n",
        "plt.figure(figsize=(25, 25))\n",
        "sns.heatmap(data.corr(), annot=True, cmap=\"YlGnBu\")"
      ],
      "metadata": {
        "id": "i4znVtq5j2oK",
        "colab": {
          "base_uri": "https://localhost:8080/",
          "height": 1000
        },
        "outputId": "53871266-a11d-4b75-a8db-a5a0151efc1a"
      },
      "execution_count": null,
      "outputs": [
        {
          "output_type": "execute_result",
          "data": {
            "text/plain": [
              "<matplotlib.axes._subplots.AxesSubplot at 0x7fcc098ab880>"
            ]
          },
          "metadata": {},
          "execution_count": 300
        },
        {
          "output_type": "display_data",
          "data": {
            "text/plain": [
              "<Figure size 1800x1800 with 2 Axes>"
            ],
            "image/png": "[encoded data removed]"
          },
          "metadata": {
            "needs_background": "light"
          }
        }
      ]
    },
    {
      "cell_type": "markdown",
      "source": [
        "Nesse caso, é possível ver que há um destaque para age, heart_disease, ever married, hypertersion, avg_glucose_level e bmi."
      ],
      "metadata": {
        "id": "JZqOvRuSkkt1"
      }
    },
    {
      "cell_type": "markdown",
      "source": [
        "###Árvore de Decisão"
      ],
      "metadata": {
        "id": "HIMKGBT0D4S_"
      }
    },
    {
      "cell_type": "markdown",
      "source": [
        "A seguir, podemos comparar os critérios de decisão de uma árvore de decisão para saber quais dados são mais importantes para separação dos níveis subsequentes. Primeiramente, vamos fazer uma comparação entre os critérios gini e entropy da Decision Tree."
      ],
      "metadata": {
        "id": "f6PWJn6yD-V0"
      }
    },
    {
      "cell_type": "code",
      "source": [
        "from sklearn.tree import DecisionTreeClassifier, plot_tree\n",
        "score_gini = []\n",
        "score_entropy = []\n",
        "numTests = 100\n",
        "\n",
        "\n",
        "for i in range(numTests):\n",
        "  X_train, X_test_aux, y_train, y_test_aux = train_test_split(X, y, test_size=0.30)# Separando teste e treino\n",
        "  clf = DecisionTreeClassifier(criterion = 'gini')\n",
        "  clf.fit(X_train, y_train)\n",
        "  prediction = clf.predict(X_test)\n",
        "  score = recall_score(y_test, prediction, average='macro')\n",
        "  score_gini.append(score)\n",
        "  clf = DecisionTreeClassifier(criterion = 'entropy')\n",
        "  clf.fit(X_train, y_train)\n",
        "  prediction = clf.predict(X_test)\n",
        "  score = recall_score(y_test, prediction, average='macro')\n",
        "  score_entropy.append(score)\n",
        "\n",
        "\n",
        "print(f'Acuracia media gini = {100 * (sum(score_gini) / len(score_gini))}')\n",
        "print(f'Acuracia media entropy = {100 * (sum(score_entropy) / len(score_entropy))}')"
      ],
      "metadata": {
        "id": "3RbBRxkCotzp",
        "colab": {
          "base_uri": "https://localhost:8080/"
        },
        "outputId": "06833c7e-14bd-4468-8c21-a7b9e303686c"
      },
      "execution_count": null,
      "outputs": [
        {
          "output_type": "stream",
          "name": "stdout",
          "text": [
            "Acuracia media gini = 70.87010634839548\n",
            "Acuracia media entropy = 71.08724399758509\n"
          ]
        }
      ]
    },
    {
      "cell_type": "markdown",
      "source": [
        "Como o resultado médio da árvore de decisão com o uso da entropy foi melhor, vamos optar por ele. Para ver as features mais importantes, basta observar a topologia mais alta da árvore. Com isso, limitaremos a altura máxima da árvore em 4."
      ],
      "metadata": {
        "id": "drA9IkJm6dF5"
      }
    },
    {
      "cell_type": "code",
      "source": [
        "import graphviz \n",
        "from sklearn import tree\n",
        "clf = DecisionTreeClassifier(criterion = 'entropy')\n",
        "clf.fit(X_train, y_train)\n",
        "features = list(data.columns)[:-1]\n",
        "\n",
        "plt.figure(figsize=(25, 25))\n",
        "plot_tree(clf, fontsize=10, max_depth=3, feature_names=features, filled=True, rounded=True) # plota a árvore criada"
      ],
      "metadata": {
        "id": "sC78MXIb6gp1",
        "colab": {
          "base_uri": "https://localhost:8080/",
          "height": 1000
        },
        "outputId": "64495af7-1d76-40df-e76f-f156fd31c3d4"
      },
      "execution_count": null,
      "outputs": [
        {
          "output_type": "execute_result",
          "data": {
            "text/plain": [
              "[Text(0.39285714285714285, 0.9, 'age <= 48.5\\nentropy = 0.997\\nsamples = 200\\nvalue = [106, 94]'),\n",
              " Text(0.14285714285714285, 0.7, 'avg_glucose_level <= 58.235\\nentropy = 0.36\\nsamples = 73\\nvalue = [68, 5]'),\n",
              " Text(0.07142857142857142, 0.5, 'entropy = 0.0\\nsamples = 2\\nvalue = [0, 2]'),\n",
              " Text(0.21428571428571427, 0.5, 'age <= 37.5\\nentropy = 0.253\\nsamples = 71\\nvalue = [68, 3]'),\n",
              " Text(0.14285714285714285, 0.3, 'entropy = 0.0\\nsamples = 50\\nvalue = [50, 0]'),\n",
              " Text(0.2857142857142857, 0.3, 'avg_glucose_level <= 94.095\\nentropy = 0.592\\nsamples = 21\\nvalue = [18, 3]'),\n",
              " Text(0.21428571428571427, 0.1, '\\n  (...)  \\n'),\n",
              " Text(0.35714285714285715, 0.1, '\\n  (...)  \\n'),\n",
              " Text(0.6428571428571429, 0.7, 'age <= 72.5\\nentropy = 0.88\\nsamples = 127\\nvalue = [38, 89]'),\n",
              " Text(0.5, 0.5, 'avg_glucose_level <= 58.895\\nentropy = 0.98\\nsamples = 79\\nvalue = [33, 46]'),\n",
              " Text(0.42857142857142855, 0.3, 'entropy = 0.0\\nsamples = 4\\nvalue = [4, 0]'),\n",
              " Text(0.5714285714285714, 0.3, 'ever_married <= 0.5\\nentropy = 0.963\\nsamples = 75\\nvalue = [29, 46]'),\n",
              " Text(0.5, 0.1, '\\n  (...)  \\n'),\n",
              " Text(0.6428571428571429, 0.1, '\\n  (...)  \\n'),\n",
              " Text(0.7857142857142857, 0.5, 'bmi <= 24.7\\nentropy = 0.482\\nsamples = 48\\nvalue = [5, 43]'),\n",
              " Text(0.7142857142857143, 0.3, 'entropy = 0.0\\nsamples = 15\\nvalue = [0, 15]'),\n",
              " Text(0.8571428571428571, 0.3, 'bmi <= 24.9\\nentropy = 0.614\\nsamples = 33\\nvalue = [5, 28]'),\n",
              " Text(0.7857142857142857, 0.1, '\\n  (...)  \\n'),\n",
              " Text(0.9285714285714286, 0.1, '\\n  (...)  \\n')]"
            ]
          },
          "metadata": {},
          "execution_count": 305
        },
        {
          "output_type": "display_data",
          "data": {
            "text/plain": [
              "<Figure size 1800x1800 with 1 Axes>"
            ],
            "image/png": "[encoded data removed]"
          },
          "metadata": {
            "needs_background": "light"
          }
        }
      ]
    },
    {
      "cell_type": "markdown",
      "source": [
        "Na árvore de decisão, nota-se que há uma predominância das features bmi, avg_glucose_level e age, sendo elas que apresentam um valor maior para as entropias vistas e em quantidade.\n",
        "\n",
        "Observando os resultados, é possível notar que há uma recorrência das features avg_glucose_level, age e bmi. Portanto, se baseando nesses testes, é possível concluir que essas features possuem grande importância na classificação."
      ],
      "metadata": {
        "id": "QvpUPk6opEcp"
      }
    },
    {
      "cell_type": "markdown",
      "source": [
        "##Remoção de features para testar sua importância"
      ],
      "metadata": {
        "id": "0mBlHiVpl6_o"
      }
    },
    {
      "cell_type": "markdown",
      "source": [
        "Agora, vamos realizar alguns testes removendo features que vimos acima que possuem baixa ou alta importância no resultado final da classificação do AVC, a fim de observar se os comportamentos extraídos anteriormente são, de fato, verdadeiros. Para tanto, após a remoção das colunas selecionadas, iremos aplicar um algoritmo de classificação e, enfim, comparar os resultados."
      ],
      "metadata": {
        "id": "1shOlAnhmCS7"
      }
    },
    {
      "cell_type": "markdown",
      "source": [
        "Primeiro, vamos analisar a acurácia média para o cenário em que não foi removida nenhuma feature."
      ],
      "metadata": {
        "id": "BjYFuCL7TPbh"
      }
    },
    {
      "cell_type": "code",
      "source": [
        "from sklearn.linear_model import LogisticRegression\n",
        "# Acurácia sem remoção de colunas\n",
        "accuracies_original = []\n",
        "numTests = 10\n",
        "\n",
        "for i in range(numTests):\n",
        "  X_train, X_test_aux, y_train, y_test_aux = train_test_split(X, y, test_size=0.3, random_state=1)   # Separando teste e treino\n",
        "  model = LogisticRegression(random_state=0, solver=\"lbfgs\", max_iter=10000)\n",
        "  model.fit(X_train, y_train)\n",
        "  prediction = model.predict(X_test)\n",
        "  accuracy = recall_score(y_test, prediction, average='macro')\n",
        "  accuracies_original.append(accuracy)\n",
        "\n",
        "original = 100 * (sum(accuracies_original) / numTests)\n",
        "print(\"Acurácia média: \", 100 * (sum(accuracies_original) / numTests))"
      ],
      "metadata": {
        "id": "cDn1WVmT244E",
        "colab": {
          "base_uri": "https://localhost:8080/"
        },
        "outputId": "ecf555bf-e480-42b2-a90a-4f6f242f292b"
      },
      "execution_count": null,
      "outputs": [
        {
          "output_type": "stream",
          "name": "stdout",
          "text": [
            "Acurácia média:  77.84621278967167\n"
          ]
        }
      ]
    },
    {
      "cell_type": "markdown",
      "source": [
        "Vamos começar retirando a coluna \"age\" da tabela em um novo dataset idêntico ao original."
      ],
      "metadata": {
        "id": "tp06S9OMmWo6"
      }
    },
    {
      "cell_type": "code",
      "source": [
        "data_test0 = data.copy()\n",
        "\n",
        "data_test0.pop(\"age\")\n",
        "\n",
        "X_aux0 = data_test0.drop(\"stroke\", axis=1)\n",
        "y_aux0 = data_test0[\"stroke\"]\n",
        "\n",
        "X_test0 = X_test.copy()\n",
        "X_test0.pop(\"age\")\n",
        "\n",
        "# Acurácia sem remoção de colunas\n",
        "accuracies = []\n",
        "\n",
        "for i in range(numTests):\n",
        "  X_train, X_test_aux, y_train, y_test_aux = train_test_split(X_aux0, y_aux0, test_size=0.3, random_state=1)   # Separando teste e treino\n",
        "  model = LogisticRegression(random_state=0, solver=\"lbfgs\", max_iter=10000)\n",
        "  model.fit(X_train, y_train)\n",
        "  prediction = model.predict(X_test0)\n",
        "  accuracy = recall_score(y_test, prediction, average='macro')\n",
        "  accuracies.append(accuracy)\n",
        "\n",
        "remove_age = 100 * (sum(accuracies) / numTests)\n",
        "print(\"Acurácia média: \", remove_age)"
      ],
      "metadata": {
        "id": "GSLM0j8FnW6i",
        "colab": {
          "base_uri": "https://localhost:8080/"
        },
        "outputId": "c2520b90-be4b-4958-cf11-d635e840693e"
      },
      "execution_count": null,
      "outputs": [
        {
          "output_type": "stream",
          "name": "stdout",
          "text": [
            "Acurácia média:  68.64231644452701\n"
          ]
        }
      ]
    },
    {
      "cell_type": "markdown",
      "source": [
        "Aqui, vamos remover a coluna 'avg_glucose_level'."
      ],
      "metadata": {
        "id": "OJiO7wIXTgy4"
      }
    },
    {
      "cell_type": "code",
      "source": [
        "data_test1 = data.copy()\n",
        "\n",
        "data_test1.pop(\"avg_glucose_level\")\n",
        "\n",
        "X_aux1 = data_test1.drop(\"stroke\", axis=1)\n",
        "y_aux1 = data_test1[\"stroke\"]\n",
        "\n",
        "X_test1 = X_test.copy()\n",
        "X_test1.pop(\"avg_glucose_level\")\n",
        "\n",
        "accuracies_test1 = []\n",
        "\n",
        "for i in range(numTests):\n",
        "  X_train, X_test_aux, y_train, y_test_aux = train_test_split(X_aux1, y_aux1, test_size=0.3, random_state=1)   # Separando teste e treino\n",
        "  model = LogisticRegression(random_state=0, solver=\"lbfgs\", max_iter=10000)\n",
        "  model.fit(X_train, y_train)\n",
        "  prediction = model.predict(X_test1)\n",
        "  accuracy = recall_score(y_test, prediction, average='macro')\n",
        "  accuracies_test1.append(accuracy)\n",
        "\n",
        "remove_glucose = 100 * (sum(accuracies_test1) / numTests)\n",
        "print(\"Acurácia média: \", remove_glucose)"
      ],
      "metadata": {
        "id": "R6toswXxmB8m",
        "colab": {
          "base_uri": "https://localhost:8080/"
        },
        "outputId": "afc7df57-09bc-4818-fd99-98aaed334e3a"
      },
      "execution_count": null,
      "outputs": [
        {
          "output_type": "stream",
          "name": "stdout",
          "text": [
            "Acurácia média:  77.7399804950541\n"
          ]
        }
      ]
    },
    {
      "cell_type": "markdown",
      "source": [
        "Por fim, removemos a coluna 'bmi'."
      ],
      "metadata": {
        "id": "gCY2WEoMYXyE"
      }
    },
    {
      "cell_type": "code",
      "source": [
        "data_test2 = data.copy()\n",
        "\n",
        "data_test2.pop(\"bmi\")\n",
        "\n",
        "X_aux2 = data_test2.drop(\"stroke\", axis=1)\n",
        "y_aux2 = data_test2[\"stroke\"]\n",
        "\n",
        "X_test2 = X_test.copy()\n",
        "X_test2.pop(\"bmi\")\n",
        "\n",
        "accuracies_test2 = []\n",
        "\n",
        "for i in range(numTests):\n",
        "  X_train, X_test_aux, y_train, y_test_aux = train_test_split(X_aux2, y_aux2, test_size=0.3, random_state=1)   # Separando teste e treino\n",
        "  model = LogisticRegression(random_state=0, solver=\"lbfgs\", max_iter=10000)\n",
        "  model.fit(X_train, y_train)\n",
        "  prediction = model.predict(X_test2)\n",
        "  accuracy = recall_score(y_test, prediction, average='macro')\n",
        "  accuracies_test2.append(accuracy)\n",
        "\n",
        "remove_bmi = 100 * (sum(accuracies_test2) / numTests)\n",
        "print(\"Acurácia média: \", remove_bmi)"
      ],
      "metadata": {
        "id": "2UEUCHf_sGtb",
        "colab": {
          "base_uri": "https://localhost:8080/"
        },
        "outputId": "78ce00b8-1372-4d0f-8f37-6eaf0d93956c"
      },
      "execution_count": null,
      "outputs": [
        {
          "output_type": "stream",
          "name": "stdout",
          "text": [
            "Acurácia média:  78.52424186132912\n"
          ]
        }
      ]
    },
    {
      "cell_type": "markdown",
      "source": [
        "Agora, vamos analisar como seria se removêssemos features que foram julgadas não importantes pelo algoritmo de prioridades utilizado anteriormente."
      ],
      "metadata": {
        "id": "sLKwLgOdsx01"
      }
    },
    {
      "cell_type": "markdown",
      "source": [
        "Começando pela remoção de 'gender', que de acordo com o algoritmo é a feature com menos importância no resultado final, logo, é esperado que sua remoção impacte pouquissimo na acurácia média original."
      ],
      "metadata": {
        "id": "2pSLNo4FY3HD"
      }
    },
    {
      "cell_type": "code",
      "source": [
        "data_test3 = data.copy()\n",
        "\n",
        "data_test3.pop(\"gender\")\n",
        "\n",
        "X_aux3 = data_test3.drop(\"stroke\", axis=1)\n",
        "y_aux3 = data_test3[\"stroke\"]\n",
        "\n",
        "X_test3 = X_test.copy()\n",
        "X_test3.pop(\"gender\")\n",
        "\n",
        "accuracies_test3 = []\n",
        "\n",
        "for i in range(numTests):\n",
        "  X_train, X_test_aux, y_train, y_test_aux = train_test_split(X_aux3, y_aux3, test_size=0.3, random_state=1)   # Separando teste e treino\n",
        "  model = LogisticRegression(random_state=0, solver=\"lbfgs\", max_iter=10000)\n",
        "  model.fit(X_train, y_train)\n",
        "  prediction = model.predict(X_test3)\n",
        "  accuracy = recall_score(y_test, prediction, average='macro')\n",
        "  accuracies_test3.append(accuracy)\n",
        "\n",
        "remove_gender = 100 * (sum(accuracies_test3) / numTests)\n",
        "print(\"Acurácia média: \", remove_gender)"
      ],
      "metadata": {
        "id": "9JSKpmDSYmCK",
        "colab": {
          "base_uri": "https://localhost:8080/"
        },
        "outputId": "b6028185-b3d9-4a4a-8c07-a2c8163c4377"
      },
      "execution_count": null,
      "outputs": [
        {
          "output_type": "stream",
          "name": "stdout",
          "text": [
            "Acurácia média:  77.02654065852413\n"
          ]
        }
      ]
    },
    {
      "cell_type": "code",
      "source": [
        "data_test4 = data.copy()\n",
        "\n",
        "data_test4.pop(\"smoking_status\")\n",
        "\n",
        "X_aux4 = data_test4.drop(\"stroke\", axis=1)\n",
        "y_aux4 = data_test4[\"stroke\"]\n",
        "\n",
        "X_test4 = X_test.copy()\n",
        "X_test4.pop(\"smoking_status\")\n",
        "\n",
        "accuracies_test4 = []\n",
        "\n",
        "for i in range(numTests):\n",
        "  X_train, X_test_aux, y_train, y_test_aux = train_test_split(X_aux4, y_aux4, test_size=0.3, random_state=1)   # Separando teste e treino\n",
        "  model = LogisticRegression(random_state=0, solver=\"lbfgs\", max_iter=10000)\n",
        "  model.fit(X_train, y_train)\n",
        "  prediction = model.predict(X_test4)\n",
        "  accuracy = recall_score(y_test, prediction, average='macro')\n",
        "  accuracies_test4.append(accuracy)\n",
        "\n",
        "remove_smoking = 100 * (sum(accuracies_test4) / numTests)\n",
        "print(\"Acurácia média: \", remove_smoking)"
      ],
      "metadata": {
        "id": "dYZ-FyLCbA3V",
        "colab": {
          "base_uri": "https://localhost:8080/"
        },
        "outputId": "218ce078-57eb-41ee-c209-2aef194c7dba"
      },
      "execution_count": null,
      "outputs": [
        {
          "output_type": "stream",
          "name": "stdout",
          "text": [
            "Acurácia média:  77.84621278967167\n"
          ]
        }
      ]
    },
    {
      "cell_type": "code",
      "source": [
        "data_test5 = data.copy()\n",
        "\n",
        "data_test5.pop(\"work_type\")\n",
        "\n",
        "X_aux5 = data_test5.drop(\"stroke\", axis=1)\n",
        "y_aux5 = data_test5[\"stroke\"]\n",
        "\n",
        "X_test5 = X_test.copy()\n",
        "X_test5.pop(\"work_type\")\n",
        "\n",
        "accuracies_test5 = []\n",
        "\n",
        "for i in range(numTests):\n",
        "  X_train, X_test_aux, y_train, y_test_aux = train_test_split(X_aux5, y_aux5, test_size=0.3, random_state=1)   # Separando teste e treino\n",
        "  model = LogisticRegression(random_state=0, solver=\"lbfgs\", max_iter=10000)\n",
        "  model.fit(X_train, y_train)\n",
        "  prediction = model.predict(X_test5)\n",
        "  accuracy = recall_score(y_test, prediction, average='macro')\n",
        "  accuracies_test5.append(accuracy)\n",
        "\n",
        "remove_work_type = 100 * (sum(accuracies_test5) / numTests)\n",
        "print(\"Acurácia média: \", remove_work_type)"
      ],
      "metadata": {
        "id": "Snla0kSCbDUT",
        "colab": {
          "base_uri": "https://localhost:8080/"
        },
        "outputId": "22a02962-6677-4684-b9a1-79f18623113d"
      },
      "execution_count": null,
      "outputs": [
        {
          "output_type": "stream",
          "name": "stdout",
          "text": [
            "Acurácia média:  78.80752798030929\n"
          ]
        }
      ]
    },
    {
      "cell_type": "markdown",
      "source": [
        "Para finalizar, vamos fazer 2 testes. No primeiro, removeremos as 3 features mais importantes para a predição corretas dos algoritmos, enquanto que no segundo removeremos todas as features de menor importância, de forma que possamos analisar se condiz com o que vimos até agora anteriormente."
      ],
      "metadata": {
        "id": "uzix2_qob4h7"
      }
    },
    {
      "cell_type": "code",
      "source": [
        "data_test6 = data.copy()\n",
        "\n",
        "data_test6.pop(\"bmi\")\n",
        "data_test6.pop(\"avg_glucose_level\")\n",
        "data_test6.pop(\"age\")\n",
        "\n",
        "X_aux6 = data_test6.drop(\"stroke\", axis=1)\n",
        "y_aux6 = data_test6[\"stroke\"]\n",
        "\n",
        "X_test6 = X_test.copy()\n",
        "X_test6.pop(\"bmi\")\n",
        "X_test6.pop(\"avg_glucose_level\")\n",
        "X_test6.pop(\"age\")\n",
        "\n",
        "accuracies_test6 = []\n",
        "\n",
        "for i in range(numTests):\n",
        "  X_train, X_test_aux, y_train, y_test_aux = train_test_split(X_aux6, y_aux6, test_size=0.3, random_state=1)   # Separando teste e treino\n",
        "  model = LogisticRegression(random_state=0, solver=\"lbfgs\", max_iter=10000)\n",
        "  model.fit(X_train, y_train)\n",
        "  prediction = model.predict(X_test6)\n",
        "  accuracy = recall_score(y_test, prediction, average='macro')\n",
        "  accuracies_test6.append(accuracy)\n",
        "\n",
        "remove_more_important = 100 * (sum(accuracies_test6) / numTests)\n",
        "print(\"Acurácia média: \", remove_more_important)\n"
      ],
      "metadata": {
        "id": "qhMGqI8QcKiz",
        "colab": {
          "base_uri": "https://localhost:8080/"
        },
        "outputId": "e75baff1-587f-4666-a21d-244043cbc1b0"
      },
      "execution_count": null,
      "outputs": [
        {
          "output_type": "stream",
          "name": "stdout",
          "text": [
            "Acurácia média:  67.71641201876191\n"
          ]
        }
      ]
    },
    {
      "cell_type": "code",
      "source": [
        "data_test7 = data.copy()\n",
        "\n",
        "data_test7.pop(\"work_type\")\n",
        "data_test7.pop(\"smoking_status\")\n",
        "data_test7.pop(\"ever_married\")\n",
        "data_test7.pop(\"hypertension\")\n",
        "data_test7.pop(\"Residence_type\")\n",
        "data_test7.pop(\"gender\")\n",
        "data_test7.pop(\"heart_disease\")\n",
        "\n",
        "X_aux7 = data_test7.drop(\"stroke\", axis=1)\n",
        "y_aux7 = data_test7[\"stroke\"]\n",
        "\n",
        "X_test7 = X_test.copy()\n",
        "X_test7.pop(\"work_type\")\n",
        "X_test7.pop(\"smoking_status\")\n",
        "X_test7.pop(\"ever_married\")\n",
        "X_test7.pop(\"hypertension\")\n",
        "X_test7.pop(\"Residence_type\")\n",
        "X_test7.pop(\"gender\")\n",
        "X_test7.pop(\"heart_disease\")\n",
        "\n",
        "accuracies_test7 = []\n",
        "\n",
        "for i in range(numTests):\n",
        "  X_train, X_test_aux, y_train, y_test_aux = train_test_split(X_aux7, y_aux7, test_size=0.3, random_state=1)   # Separando teste e treino\n",
        "  model = LogisticRegression(random_state=0, solver=\"lbfgs\", max_iter=10000)\n",
        "  model.fit(X_train, y_train)\n",
        "  prediction = model.predict(X_test7)\n",
        "  accuracy = recall_score(y_test, prediction, average='macro')\n",
        "  accuracies_test7.append(accuracy)\n",
        "\n",
        "remove_less_importance = 100 * (sum(accuracies_test7) / numTests)\n",
        "print(\"Acurácia média: \", remove_less_importance)\n"
      ],
      "metadata": {
        "id": "BTmpn0bXcjIr",
        "colab": {
          "base_uri": "https://localhost:8080/"
        },
        "outputId": "a9c45e79-5a3b-4439-c27b-1022efb2f046"
      },
      "execution_count": null,
      "outputs": [
        {
          "output_type": "stream",
          "name": "stdout",
          "text": [
            "Acurácia média:  79.0606278734965\n"
          ]
        }
      ]
    },
    {
      "cell_type": "markdown",
      "source": [
        "Agora, com os resultados obtidos, podemos analisar os impactos que a remocao das features tiveram sobre o resultado. Para melhor visualização, usaremos uma tabela com os resultados."
      ],
      "metadata": {
        "id": "uEeG2QFU3qpy"
      }
    },
    {
      "cell_type": "code",
      "source": [
        "from IPython.display import display, HTML\n",
        "data = {'Features':  ['gender, age, hypertension, heart_disease, ever_married, work_type, Residence_type, avg_glucose_level, bmi, smoking_status',\n",
        "                   'gender, hypertension, heart_disease, ever_married, work_type, Residence_type, avg_glucose_level, bmi, smoking_status',\n",
        "                   'gender, age, hypertension, heart_disease, ever_married, work_type, Residence_type, bmi, smoking_status',\n",
        "                   'gender, age, hypertension, heart_disease, ever_married, work_type, Residence_type, avg_glucose_level, smoking_status',\n",
        "                   'age, hypertension, heart_disease, ever_married, work_type, Residence_type, avg_glucose_level, bmi, smoking_status',\n",
        "                   'gender, age, hypertension, heart_disease, ever_married, work_type, Residence_type, avg_glucose_level, bmi',\n",
        "                   'gender, age, hypertension, heart_disease, ever_married, Residence_type, avg_glucose_level, bmi, smoking_status',\n",
        "                   'gender, hypertension, heart_disease, ever_married, work_type, Residence_type, smoking_statuss',\n",
        "                   'age, heart_disease, avg_glucose_level, bmi'],\n",
        "        'Acuracias': [original, remove_age, remove_glucose, remove_bmi, remove_gender, remove_smoking, remove_work_type, remove_more_important, remove_less_importance]}\n",
        "\n",
        "df = pd.DataFrame(data)\n",
        "display(HTML(df.to_html()))\n"
      ],
      "metadata": {
        "id": "3YGdLWoJORme",
        "colab": {
          "base_uri": "https://localhost:8080/",
          "height": 331
        },
        "outputId": "5e4cbcf3-e5ba-4de2-a9ba-004639e4c1d6"
      },
      "execution_count": null,
      "outputs": [
        {
          "output_type": "display_data",
          "data": {
            "text/plain": [
              "<IPython.core.display.HTML object>"
            ],
            "text/html": [
              "<table border=\"1\" class=\"dataframe\">\n",
              "  <thead>\n",
              "    <tr style=\"text-align: right;\">\n",
              "      <th></th>\n",
              "      <th>Features</th>\n",
              "      <th>Acuracias</th>\n",
              "    </tr>\n",
              "  </thead>\n",
              "  <tbody>\n",
              "    <tr>\n",
              "      <th>0</th>\n",
              "      <td>gender, age, hypertension, heart_disease, ever_married, work_type, Residence_type, avg_glucose_level, bmi, smoking_status</td>\n",
              "      <td>77.846213</td>\n",
              "    </tr>\n",
              "    <tr>\n",
              "      <th>1</th>\n",
              "      <td>gender, hypertension, heart_disease, ever_married, work_type, Residence_type, avg_glucose_level, bmi, smoking_status</td>\n",
              "      <td>68.642316</td>\n",
              "    </tr>\n",
              "    <tr>\n",
              "      <th>2</th>\n",
              "      <td>gender, age, hypertension, heart_disease, ever_married, work_type, Residence_type, bmi, smoking_status</td>\n",
              "      <td>77.739980</td>\n",
              "    </tr>\n",
              "    <tr>\n",
              "      <th>3</th>\n",
              "      <td>gender, age, hypertension, heart_disease, ever_married, work_type, Residence_type, avg_glucose_level, smoking_status</td>\n",
              "      <td>78.524242</td>\n",
              "    </tr>\n",
              "    <tr>\n",
              "      <th>4</th>\n",
              "      <td>age, hypertension, heart_disease, ever_married, work_type, Residence_type, avg_glucose_level, bmi, smoking_status</td>\n",
              "      <td>77.026541</td>\n",
              "    </tr>\n",
              "    <tr>\n",
              "      <th>5</th>\n",
              "      <td>gender, age, hypertension, heart_disease, ever_married, work_type, Residence_type, avg_glucose_level, bmi</td>\n",
              "      <td>77.846213</td>\n",
              "    </tr>\n",
              "    <tr>\n",
              "      <th>6</th>\n",
              "      <td>gender, age, hypertension, heart_disease, ever_married, Residence_type, avg_glucose_level, bmi, smoking_status</td>\n",
              "      <td>78.807528</td>\n",
              "    </tr>\n",
              "    <tr>\n",
              "      <th>7</th>\n",
              "      <td>gender, hypertension, heart_disease, ever_married, work_type, Residence_type, smoking_statuss</td>\n",
              "      <td>67.716412</td>\n",
              "    </tr>\n",
              "    <tr>\n",
              "      <th>8</th>\n",
              "      <td>age, heart_disease, avg_glucose_level, bmi</td>\n",
              "      <td>79.060628</td>\n",
              "    </tr>\n",
              "  </tbody>\n",
              "</table>"
            ]
          },
          "metadata": {}
        }
      ]
    },
    {
      "cell_type": "markdown",
      "source": [
        "Tendo em vista os resultados apresentados, é perceptivel que, quando a a remoção de features consideradas importantes, uma de cada vez, o impacto é baixo para os casos das features avg_glucose_level e bmi, mas alto para age, no caso da regressão logística. Em outro cenário, quando há a remoção das três features juntas, vemos o desempenho do algoritmo cair significativamente. O mesmo comportamento não acontece quando há a remoção de atributos considerados menos significantes, onde a acurácia permanece quase a original vista. Assim, podemos concluir que as feautures que apresentaram um maior peso nos outros testes realmente impactam bastante sobre o desempenho na classificação."
      ],
      "metadata": {
        "id": "UBQYoq8adKzz"
      }
    },
    {
      "cell_type": "markdown",
      "source": [
        "##Aplicação dos algoritmos preditivos"
      ],
      "metadata": {
        "id": "A16F6QOCKA96"
      }
    },
    {
      "cell_type": "markdown",
      "source": [
        "Para finalizar este relatório, vamos então, enfim, para o uso dos algoritmos preditivos selecionados na proposta inicial deste trabalho. Com eles, vamos realizar as classificações sobre os dados tratados e manipulados durante as várias etapas do projeto. Com tal predição, vamos então responder se um paciente, dadas suas X características, terá ou não um AVC.\n",
        "\n",
        "Ao fim da execução dos algoritmos que serão empregados, teremos as acurácias de cada um deles, as quais podemos relacionar e ver se são semelhantes para algoritmos distintos."
      ],
      "metadata": {
        "id": "sFHAYBQsKG6M"
      }
    },
    {
      "cell_type": "markdown",
      "source": [
        "###Multi Layer Perceptron"
      ],
      "metadata": {
        "id": "WrXMUfIYONA1"
      }
    },
    {
      "cell_type": "code",
      "source": [
        "from sklearn.neural_network import MLPClassifier\n",
        "accuracies_MLP = []\n",
        "numTests = 10\n",
        "\n",
        "for i in range(numTests):\n",
        "  X_train, X_test_aux, y_train, y_test_aux = train_test_split(X, y, test_size=0.3)   # Separando teste e treino\n",
        "  model = MLPClassifier(hidden_layer_sizes=(256,128,64,32),activation=\"relu\",random_state=1, max_iter=1500, solver=\"sgd\", learning_rate='adaptive', learning_rate_init=0.004, power_t=0.7)\n",
        "  model.fit(X_train, y_train)\n",
        "  prediction = model.predict(X_test)\n",
        "  accuracy = recall_score(y_test, prediction, average='macro')\n",
        "  accuracies_MLP.append(100 * accuracy)\n",
        "\n",
        "print(\"Acurácia média Multilayer Perceptron: \", (sum(accuracies_MLP) / numTests))"
      ],
      "metadata": {
        "id": "RPELcURBOQX5",
        "colab": {
          "base_uri": "https://localhost:8080/"
        },
        "outputId": "ce8b0c76-8804-4660-de39-2067cd5a5fdc"
      },
      "execution_count": null,
      "outputs": [
        {
          "output_type": "stream",
          "name": "stdout",
          "text": [
            "Acurácia média Multilayer Perceptron:  73.85042725119584\n"
          ]
        }
      ]
    },
    {
      "cell_type": "markdown",
      "source": [
        "###Random Forest Classifier"
      ],
      "metadata": {
        "id": "PMBmMOEzLWRh"
      }
    },
    {
      "cell_type": "code",
      "source": [
        "accuracies_RF = []\n",
        "numTests = 10\n",
        "\n",
        "for i in range(numTests):\n",
        "  X_train, X_test_aux, y_train, y_test_aux = train_test_split(X, y, test_size=0.3)   # Separando teste e treino\n",
        "  model = RandomForestClassifier(criterion='entropy', n_estimators=150, max_features=\"auto\")\n",
        "  model.fit(X_train, y_train)\n",
        "  prediction = model.predict(X_test)\n",
        "  accuracy = recall_score(y_test, prediction, average='macro')\n",
        "  accuracies_RF.append(100 * accuracy)\n",
        "\n",
        "print(\"Acurácia média do Random Forest: \", (sum(accuracies_RF) / numTests))"
      ],
      "metadata": {
        "id": "ko6WD27zr2jt",
        "colab": {
          "base_uri": "https://localhost:8080/"
        },
        "outputId": "0beaff33-0d8b-42c8-f9e8-ede05d972196"
      },
      "execution_count": null,
      "outputs": [
        {
          "output_type": "stream",
          "name": "stdout",
          "text": [
            "Acurácia média do Random Forest:  76.6592555612316\n"
          ]
        }
      ]
    },
    {
      "cell_type": "markdown",
      "source": [
        "###Support Vector Machine"
      ],
      "metadata": {
        "id": "tNaqMz5T8ipz"
      }
    },
    {
      "cell_type": "code",
      "source": [
        "from sklearn.svm import SVC\n",
        "accuracies_SVM = []\n",
        "numTests = 10\n",
        "for i in range(numTests):\n",
        "  X_train, X_test_aux, y_train, y_test_aux = train_test_split(X, y, test_size=0.3)   # Separando teste e treino\n",
        "  model = SVC(kernel='linear', C=10)\n",
        "  model.fit(X_train, y_train)\n",
        "  prediction = model.predict(X_test)\n",
        "  accuracy = recall_score(y_test, prediction, average='macro')\n",
        "  accuracies_SVM.append(100 * accuracy)\n",
        "\n",
        "print(\"Acurácia média do Support Vector Machine: \", (sum(accuracies_SVM) / numTests))"
      ],
      "metadata": {
        "id": "vWevsiqdw-OW",
        "colab": {
          "base_uri": "https://localhost:8080/"
        },
        "outputId": "d46d710c-ba59-4b96-bf61-9b30efbca054"
      },
      "execution_count": null,
      "outputs": [
        {
          "output_type": "stream",
          "name": "stdout",
          "text": [
            "Acurácia média do Support Vector Machine:  77.79257418845492\n"
          ]
        }
      ]
    },
    {
      "cell_type": "code",
      "source": [
        "iteration = [i for i in range(10)]\n",
        "\n",
        "plt.plot(iteration, accuracies_MLP)\n",
        "plt.plot(iteration, accuracies_RF)\n",
        "plt.plot(iteration, accuracies_SVM)\n",
        "plt.legend([\"MLP\", \"Random Forest\", \"SVM\"])\n",
        "plt.title(\"Acurácias para cada iteração\")\n",
        "plt.ylabel(\"Acurácias\")\n",
        "plt.xlabel(\"Iteração\")\n",
        "plt.show()"
      ],
      "metadata": {
        "id": "IdIE39vwzMxr",
        "colab": {
          "base_uri": "https://localhost:8080/",
          "height": 295
        },
        "outputId": "819f6b61-5dd2-458b-c07c-8919b02aa804"
      },
      "execution_count": null,
      "outputs": [
        {
          "output_type": "display_data",
          "data": {
            "text/plain": [
              "<Figure size 432x288 with 1 Axes>"
            ],
            "image/png": "[encoded data removed]"
          },
          "metadata": {
            "needs_background": "light"
          }
        }
      ]
    },
    {
      "cell_type": "code",
      "source": [
        "dici = {\"MLP\": accuracies_MLP, \"Random Forest\": accuracies_RF, \"SVM\": accuracies_SVM}\n",
        "dataAcFim = pd.DataFrame(dici)\n",
        "print(\"Tabela com acurácias\")\n",
        "print(dataAcFim)"
      ],
      "metadata": {
        "id": "sekCt3F3_wKq",
        "colab": {
          "base_uri": "https://localhost:8080/"
        },
        "outputId": "e7d70a69-c748-4a48-8f4c-e5f31354003d"
      },
      "execution_count": null,
      "outputs": [
        {
          "output_type": "stream",
          "name": "stdout",
          "text": [
            "Tabela com acurácias\n",
            "         MLP  Random Forest        SVM\n",
            "0  71.532648      76.222542  77.598337\n",
            "1  73.703153      76.617285  75.553801\n",
            "2  74.937306      76.116310  79.804254\n",
            "3  75.160219      77.897297  76.247504\n",
            "4  73.885432      76.688107  77.947221\n",
            "5  75.620559      77.932708  78.600288\n",
            "6  74.310361      77.548414  77.927483\n",
            "7  73.885432      75.949705  78.655436\n",
            "8  72.646055      75.514327  78.989806\n",
            "9  72.823109      76.105861  76.601611\n"
          ]
        }
      ]
    },
    {
      "cell_type": "markdown",
      "source": [
        "Como podemos observar no gráfico acima, o algoritmo do Random Forest Classifier se manteve o de maior acurácia ao longo das 10 rodadas, enquanto que o SVM foi o pior, com aproximadamente 72% de acurácia na predição. Enquanto que, para diferentes valores de random_state na divisão de treino/teste, o SVM pouco se alterou em acurácia, podemos perceber que para o MLP a variância foi maior (manteve-se menos estável esse algoritmo). "
      ],
      "metadata": {
        "id": "k8QDJ29S_YhR"
      }
    }
  ]
}